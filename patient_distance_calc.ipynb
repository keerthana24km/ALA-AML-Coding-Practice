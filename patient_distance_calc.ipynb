{
 "cells": [
  {
   "cell_type": "code",
   "execution_count": 9,
   "metadata": {},
   "outputs": [],
   "source": [
    "import numpy as np\n",
    "import pandas as pd\n",
    "import math"
   ]
  },
  {
   "cell_type": "code",
   "execution_count": 3,
   "metadata": {},
   "outputs": [
    {
     "name": "stdout",
     "output_type": "stream",
     "text": [
      "   HR   BP  Temp\n",
      "0  76  126  38.0\n",
      "1  74  120  38.0\n",
      "2  72  118  37.5\n",
      "3  78  136  37.0\n"
     ]
    }
   ],
   "source": [
    "df_patient = pd.DataFrame({\"HR\": [76,74,72,78],\n",
    "                           \"BP\": [126,120,118,136],\n",
    "                            \"Temp\": [38.0,38.0,37.5,37.0]})\n",
    "print(df_patient)"
   ]
  },
  {
   "cell_type": "code",
   "execution_count": 24,
   "metadata": {},
   "outputs": [
    {
     "name": "stdout",
     "output_type": "stream",
     "text": [
      "[42.14261501141095, 50.81092402230056, 54.79963503528103, 28.385735854474515, 69.13031173081747, 74.22432215924913]\n"
     ]
    }
   ],
   "source": [
    "distances = []\n",
    "for i in range(0,df_patient.__len__()-1):\n",
    "    for j in range(i+1,df_patient.__len__()):\n",
    "        result = math.sqrt(abs((pow(df_patient[\"HR\"][i],2)-pow(df_patient[\"HR\"][j],2)))+abs((pow(df_patient[\"BP\"][i],2)-pow(df_patient[\"BP\"][j],2)))+abs((pow(df_patient[\"Temp\"][i],2)-pow(df_patient[\"Temp\"][j],2))))\n",
    "        distances.append(result)\n",
    "print(distances)"
   ]
  },
  {
   "cell_type": "code",
   "execution_count": 28,
   "metadata": {},
   "outputs": [
    {
     "name": "stdout",
     "output_type": "stream",
     "text": [
      "28.385735854474515\n",
      "The nearest two patients are Patient2 and Patient3\n"
     ]
    }
   ],
   "source": [
    "Nearest = min(distances)\n",
    "print(Nearest)\n",
    "for i in range(distances.__len__()):\n",
    "    if(distances[i]==Nearest and i==0):\n",
    "        print(\"The nearest two patients are Patient1 and Patient2\")\n",
    "    elif(distances[i]==Nearest and i==1):\n",
    "        print(\"The nearest two patients are Patient1 and Patient3\")\n",
    "    elif(distances[i]==Nearest and i==2):\n",
    "        print(\"The nearest two patients are Patient1 and Patient4\")\n",
    "    elif(distances[i]==Nearest and i==3):\n",
    "        print(\"The nearest two patients are Patient2 and Patient3\")\n",
    "    elif(distances[i]==Nearest and i==4):\n",
    "        print(\"The nearest two patients are Patient2 and Patient4\")\n",
    "    elif(distances[i]==Nearest and i==5):\n",
    "        print(\"The nearest two patients are Patient3 and Patient4\")"
   ]
  },
  {
   "cell_type": "code",
   "execution_count": 29,
   "metadata": {},
   "outputs": [
    {
     "name": "stdout",
     "output_type": "stream",
     "text": [
      "74.22432215924913\n",
      "The farthest two patients are Patient3 and Patient4\n"
     ]
    }
   ],
   "source": [
    "Farthest = max(distances)\n",
    "print(Farthest)\n",
    "for i in range(distances.__len__()):\n",
    "    if(distances[i]==Farthest and i==0):\n",
    "        print(\"The farthest two patients are Patient1 and Patient2\")\n",
    "    elif(distances[i]==Farthest and i==1):\n",
    "        print(\"The farthest two patients are Patient1 and Patient3\")\n",
    "    elif(distances[i]==Farthest and i==2):\n",
    "        print(\"The farthest two patients are Patient1 and Patient4\")\n",
    "    elif(distances[i]==Farthest and i==3):\n",
    "        print(\"The farthest two patients are Patient2 and Patient3\")\n",
    "    elif(distances[i]==Farthest and i==4):\n",
    "        print(\"The farthest two patients are Patient2 and Patient4\")\n",
    "    elif(distances[i]==Farthest and i==5):\n",
    "        print(\"The farthest two patients are Patient3 and Patient4\")"
   ]
  },
  {
   "cell_type": "code",
   "execution_count": 40,
   "metadata": {},
   "outputs": [
    {
     "name": "stdout",
     "output_type": "stream",
     "text": [
      "27.09243436828813\n",
      "46.98936049788292\n",
      "54.20562701417631\n",
      "50.70502933634887\n",
      "Nearest distance =  27.09243436828813\n",
      "The nearest patient to dummy patient is Patient 1\n"
     ]
    }
   ],
   "source": [
    "Nearest = 0\n",
    "Patient = 1\n",
    "dummy_patient = {\"HR\": 75,\n",
    "                 \"BP\": 128,\n",
    "                 \"Temp\": 37.0}\n",
    "for i in range(0,1):\n",
    "    result = math.sqrt(abs((pow(df_patient[\"HR\"][i],2)-pow(dummy_patient[\"HR\"],2)))+abs((pow(df_patient[\"BP\"][i],2)-pow(dummy_patient[\"BP\"],2)))+abs((pow(df_patient[\"Temp\"][i],2)-pow(dummy_patient[\"Temp\"],2))))\n",
    "    print(result)\n",
    "    Nearest = result\n",
    "for i in range(1,df_patient.__len__()):\n",
    "    result = math.sqrt(abs((pow(df_patient[\"HR\"][i],2)-pow(dummy_patient[\"HR\"],2)))+abs((pow(df_patient[\"BP\"][i],2)-pow(dummy_patient[\"BP\"],2)))+abs((pow(df_patient[\"Temp\"][i],2)-pow(dummy_patient[\"Temp\"],2))))\n",
    "    print(result)\n",
    "    if(Nearest>result):\n",
    "        Nearest = result\n",
    "        Patient = i+1\n",
    "print(\"Nearest distance = \",Nearest)\n",
    "print(\"The nearest patient to dummy patient is Patient\",Patient)"
   ]
  }
 ],
 "metadata": {
  "kernelspec": {
   "display_name": "pycaretenv",
   "language": "python",
   "name": "python3"
  },
  "language_info": {
   "codemirror_mode": {
    "name": "ipython",
    "version": 3
   },
   "file_extension": ".py",
   "mimetype": "text/x-python",
   "name": "python",
   "nbconvert_exporter": "python",
   "pygments_lexer": "ipython3",
   "version": "3.9.17"
  },
  "orig_nbformat": 4
 },
 "nbformat": 4,
 "nbformat_minor": 2
}
