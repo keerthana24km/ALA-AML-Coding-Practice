{
 "cells": [
  {
   "cell_type": "code",
   "execution_count": 3,
   "metadata": {},
   "outputs": [],
   "source": [
    "import numpy as np\n",
    "import pandas as pd\n",
    "import matplotlib.pyplot as plt\n",
    "plt.style.use('fivethirtyeight')\n",
    "\n",
    "from plots import *"
   ]
  },
  {
   "cell_type": "code",
   "execution_count": 4,
   "metadata": {},
   "outputs": [
    {
     "name": "stdout",
     "output_type": "stream",
     "text": [
      "Requirement already satisfied: openpyxl in c:\\users\\user\\anaconda3\\envs\\pycaretenv\\lib\\site-packages (3.1.2)\n",
      "Requirement already satisfied: et-xmlfile in c:\\users\\user\\anaconda3\\envs\\pycaretenv\\lib\\site-packages (from openpyxl) (1.1.0)\n",
      "Note: you may need to restart the kernel to use updated packages.\n"
     ]
    }
   ],
   "source": [
    "pip install openpyxl"
   ]
  },
  {
   "cell_type": "code",
   "execution_count": 5,
   "metadata": {},
   "outputs": [
    {
     "data": {
      "text/html": [
       "<div>\n",
       "<style scoped>\n",
       "    .dataframe tbody tr th:only-of-type {\n",
       "        vertical-align: middle;\n",
       "    }\n",
       "\n",
       "    .dataframe tbody tr th {\n",
       "        vertical-align: top;\n",
       "    }\n",
       "\n",
       "    .dataframe thead th {\n",
       "        text-align: right;\n",
       "    }\n",
       "</style>\n",
       "<table border=\"1\" class=\"dataframe\">\n",
       "  <thead>\n",
       "    <tr style=\"text-align: right;\">\n",
       "      <th></th>\n",
       "      <th>X</th>\n",
       "      <th>Y</th>\n",
       "    </tr>\n",
       "  </thead>\n",
       "  <tbody>\n",
       "    <tr>\n",
       "      <th>0</th>\n",
       "      <td>1000</td>\n",
       "      <td>1050</td>\n",
       "    </tr>\n",
       "    <tr>\n",
       "      <th>1</th>\n",
       "      <td>1125</td>\n",
       "      <td>1150</td>\n",
       "    </tr>\n",
       "    <tr>\n",
       "      <th>2</th>\n",
       "      <td>1087</td>\n",
       "      <td>1213</td>\n",
       "    </tr>\n",
       "    <tr>\n",
       "      <th>3</th>\n",
       "      <td>1070</td>\n",
       "      <td>1275</td>\n",
       "    </tr>\n",
       "    <tr>\n",
       "      <th>4</th>\n",
       "      <td>1100</td>\n",
       "      <td>1300</td>\n",
       "    </tr>\n",
       "  </tbody>\n",
       "</table>\n",
       "</div>"
      ],
      "text/plain": [
       "      X     Y\n",
       "0  1000  1050\n",
       "1  1125  1150\n",
       "2  1087  1213\n",
       "3  1070  1275\n",
       "4  1100  1300"
      ]
     },
     "execution_count": 5,
     "metadata": {},
     "output_type": "execute_result"
    }
   ],
   "source": [
    "df = pd.read_excel('Dataset2.xlsx')\n",
    "df.head()"
   ]
  },
  {
   "cell_type": "code",
   "execution_count": 6,
   "metadata": {},
   "outputs": [],
   "source": [
    "X = df.iloc[:,0].to_numpy()\n",
    "y = df.iloc[:,1].to_numpy()"
   ]
  },
  {
   "cell_type": "code",
   "execution_count": 7,
   "metadata": {},
   "outputs": [
    {
     "data": {
      "text/plain": [
       "Text(0, 0.5, 'y')"
      ]
     },
     "execution_count": 7,
     "metadata": {},
     "output_type": "execute_result"
    },
    {
     "data": {
      "image/png": "[encoded data removed]",
      "text/plain": [
       "<Figure size 640x480 with 1 Axes>"
      ]
     },
     "metadata": {},
     "output_type": "display_data"
    }
   ],
   "source": [
    "plt.scatter(X, y)\n",
    "plt.xlabel('X')\n",
    "plt.ylabel('y')"
   ]
  },
  {
   "cell_type": "code",
   "execution_count": 8,
   "metadata": {},
   "outputs": [],
   "source": [
    "# Shuffles the indices\n",
    "idx = np.arange(X.shape[0])\n",
    "np.random.shuffle(idx)\n",
    "\n",
    "# Uses first 80 random indices for train\n",
    "train_idx = idx[:int(X.shape[0]*.8)]\n",
    "\n",
    "# Uses the remaining indices for validation\n",
    "val_idx = idx[int(X.shape[0]*.8):]\n",
    "\n",
    "# Generates train and validation sets\n",
    "X_train, y_train = X[train_idx], y[train_idx]\n",
    "X_val, y_val = X[val_idx], y[val_idx]"
   ]
  },
  {
   "cell_type": "code",
   "execution_count": 9,
   "metadata": {},
   "outputs": [
    {
     "name": "stdout",
     "output_type": "stream",
     "text": [
      "[ 0.49671415 -0.1382643   0.64768854  1.52302986 -0.23415337 -0.23413696\n",
      "  1.57921282  0.76743473 -0.46947439  0.54256004 -0.46341769 -0.46572975\n",
      "  0.24196227 -1.91328024 -1.72491783 -0.56228753 -1.01283112  0.31424733\n",
      " -0.90802408 -1.4123037   1.46564877 -0.2257763   0.0675282  -1.42474819\n",
      " -0.54438272  0.11092259 -1.15099358  0.37569802] [-0.60063869 -0.29169375 -0.60170661  1.85227818 -0.01349722 -1.05771093\n",
      "  0.82254491 -1.22084365  0.2088636  -1.95967012 -1.32818605  0.19686124\n",
      "  0.73846658  0.17136828 -0.11564828 -0.3011037  -1.47852199 -0.71984421\n",
      " -0.46063877  1.05712223  0.34361829 -1.76304016  0.32408397 -0.38508228\n",
      " -0.676922    0.61167629  1.03099952  0.93128012]\n"
     ]
    }
   ],
   "source": [
    "np.random.seed(42)\n",
    "b = np.random.randn(28)\n",
    "w = np.random.randn(28)\n",
    "\n",
    "print(b, w)"
   ]
  },
  {
   "cell_type": "code",
   "execution_count": 10,
   "metadata": {},
   "outputs": [
    {
     "data": {
      "text/plain": [
       "(28,)"
      ]
     },
     "execution_count": 10,
     "metadata": {},
     "output_type": "execute_result"
    }
   ],
   "source": [
    "(b + (w * X_train)).shape"
   ]
  },
  {
   "cell_type": "code",
   "execution_count": 11,
   "metadata": {},
   "outputs": [
    {
     "data": {
      "text/plain": [
       "array([ -642.18668406,  -313.70904533,  -766.52824205,  2085.33598743,\n",
       "         -17.24065654, -1295.93002493,   947.50586173,  -853.82312025,\n",
       "         286.71796875, -2115.90117375, -1627.49132759,   245.61081508,\n",
       "         923.32518727,   199.44445015,  -128.93802846,  -331.77635268,\n",
       "       -1738.2761698 ,  -782.15640719,  -415.48291794,  1399.27464604,\n",
       "         310.72210938, -1498.80990836,   388.96829148,  -444.26937066,\n",
       "        -914.38908314,   734.1224692 ,  1339.14838567,  1238.97825644])"
      ]
     },
     "execution_count": 11,
     "metadata": {},
     "output_type": "execute_result"
    }
   ],
   "source": [
    "yhat = b + w * X_train\n",
    "yhat"
   ]
  },
  {
   "cell_type": "code",
   "execution_count": 12,
   "metadata": {},
   "outputs": [
    {
     "name": "stdout",
     "output_type": "stream",
     "text": [
      "3162177.2006372386\n"
     ]
    }
   ],
   "source": [
    "error = (yhat - y_train)\n",
    "\n",
    "loss = (error ** 2).mean()\n",
    "print(loss)"
   ]
  },
  {
   "cell_type": "code",
   "execution_count": 13,
   "metadata": {},
   "outputs": [
    {
     "data": {
      "text/plain": [
       "((101, 101), (101, 101))"
      ]
     },
     "execution_count": 13,
     "metadata": {},
     "output_type": "execute_result"
    }
   ],
   "source": [
    "true_b = 1\n",
    "true_w = 2\n",
    "\n",
    "b_range = np.linspace(true_b - 3, true_b + 3, 101)\n",
    "w_range = np.linspace(true_w - 3, true_w + 3, 101)\n",
    "\n",
    "# values for all combinations\n",
    "bs, ws = np.meshgrid(b_range, w_range)\n",
    "bs.shape, ws.shape"
   ]
  },
  {
   "cell_type": "code",
   "execution_count": 14,
   "metadata": {},
   "outputs": [
    {
     "data": {
      "text/plain": [
       "(101, 101)"
      ]
     },
     "execution_count": 14,
     "metadata": {},
     "output_type": "execute_result"
    }
   ],
   "source": [
    "sample_x = X_train[0]\n",
    "sample_yhat = bs + ws * sample_x\n",
    "sample_yhat.shape"
   ]
  },
  {
   "cell_type": "code",
   "execution_count": 15,
   "metadata": {},
   "outputs": [
    {
     "name": "stdout",
     "output_type": "stream",
     "text": [
      "-2903.6252917229294 -3253253.3482071087\n"
     ]
    }
   ],
   "source": [
    "b_grad = 2 * error.mean()\n",
    "w_grad = 2 * (X_train * error).mean()\n",
    "print(b_grad, w_grad)"
   ]
  },
  {
   "cell_type": "code",
   "execution_count": 16,
   "metadata": {},
   "outputs": [
    {
     "name": "stdout",
     "output_type": "stream",
     "text": [
      "[ 0.49671415 -0.1382643   0.64768854  1.52302986 -0.23415337 -0.23413696\n",
      "  1.57921282  0.76743473 -0.46947439  0.54256004 -0.46341769 -0.46572975\n",
      "  0.24196227 -1.91328024 -1.72491783 -0.56228753 -1.01283112  0.31424733\n",
      " -0.90802408 -1.4123037   1.46564877 -0.2257763   0.0675282  -1.42474819\n",
      " -0.54438272  0.11092259 -1.15099358  0.37569802] [-0.60063869 -0.29169375 -0.60170661  1.85227818 -0.01349722 -1.05771093\n",
      "  0.82254491 -1.22084365  0.2088636  -1.95967012 -1.32818605  0.19686124\n",
      "  0.73846658  0.17136828 -0.11564828 -0.3011037  -1.47852199 -0.71984421\n",
      " -0.46063877  1.05712223  0.34361829 -1.76304016  0.32408397 -0.38508228\n",
      " -0.676922    0.61167629  1.03099952  0.93128012]\n",
      "-2903.6252917229294 -3253253.3482071087\n",
      "[290.85924333 290.22426487 291.01021771 291.88555903 290.1283758\n",
      " 290.12839222 291.94174199 291.1299639  289.89305479 290.90508922\n",
      " 289.89911148 289.89679942 290.60449144 288.44924893 288.63761134\n",
      " 289.80024164 289.34969805 290.6767765  289.4545051  288.95022547\n",
      " 291.82817794 290.13675287 290.43005738 288.93778099 289.81814645\n",
      " 290.47345176 289.21153559 290.73822719] [325324.73418202 325325.04312696 325324.7331141  325327.1870989\n",
      " 325325.32132349 325324.27710978 325326.15736562 325324.11397706\n",
      " 325325.54368431 325323.37515059 325324.00663466 325325.53168195\n",
      " 325326.07328729 325325.50618899 325325.21917243 325325.03371702\n",
      " 325323.85629872 325324.6149765  325324.87418194 325326.39194294\n",
      " 325325.678439   325323.57178056 325325.65890468 325324.94973843\n",
      " 325324.65789871 325325.946497   325326.36582023 325326.26610083]\n"
     ]
    }
   ],
   "source": [
    "lr = 0.1\n",
    "print(b, w)\n",
    "\n",
    "b_grad = 2 * error.mean() \n",
    "w_grad = 2 * (X_train * error).mean()\n",
    "print(b_grad, w_grad)\n",
    "\n",
    "b = b - lr * b_grad\n",
    "w = w - lr * w_grad\n",
    "\n",
    "print(b, w)"
   ]
  },
  {
   "cell_type": "code",
   "execution_count": 17,
   "metadata": {},
   "outputs": [],
   "source": [
    "def compute_cost(x, y, w, b):\n",
    "    m = x.shape[0] \n",
    "    cost = 0\n",
    "    \n",
    "    for i in range(m):\n",
    "        f_wb = w * x[i] + b\n",
    "        cost = cost + (f_wb - y[i])**2\n",
    "    total_cost = 1 / (2 * m) * cost\n",
    "\n",
    "    return total_cost"
   ]
  },
  {
   "cell_type": "code",
   "execution_count": 18,
   "metadata": {},
   "outputs": [],
   "source": [
    "def compute_gradient(x, y, w, b): \n",
    "    m = x.shape[0]    \n",
    "    dj_dw = 0\n",
    "    dj_db = 0\n",
    "    \n",
    "    for i in range(m):  \n",
    "        f_wb = w * x[i] + b \n",
    "        dj_dw_i = (f_wb - y[i]) * x[i] \n",
    "        dj_db_i = f_wb - y[i] \n",
    "        dj_db += dj_db_i\n",
    "        dj_dw += dj_dw_i \n",
    "    dj_dw = dj_dw / m \n",
    "    dj_db = dj_db / m \n",
    "        \n",
    "    return dj_dw, dj_db"
   ]
  },
  {
   "cell_type": "code",
   "execution_count": 19,
   "metadata": {},
   "outputs": [],
   "source": [
    "import math, copy\n",
    "def gradient_descent(x, y, w_in, b_in, alpha, num_iters, cost_function, gradient_function):\n",
    "    w = copy.deepcopy(w_in) # avoid modifying global w_in\n",
    "    # An array to store cost J and w's at each iteration primarily for graphing later\n",
    "    J_history = []\n",
    "    p_history = []\n",
    "    b = b_in\n",
    "    w = w_in\n",
    "    \n",
    "    for i in range(num_iters):\n",
    "        # Calculate the gradient and update the parameters using gradient_function\n",
    "        dj_dw, dj_db = gradient_function(x, y, w , b)     \n",
    "\n",
    "        # Update Parameters using equation (3) above\n",
    "        b = b - alpha * dj_db                            \n",
    "        w = w - alpha * dj_dw                            \n",
    "\n",
    "        # Save cost J at each iteration\n",
    "        if i<100000:      # prevent resource exhaustion \n",
    "            J_history.append( cost_function(x, y, w , b))\n",
    "            p_history.append([w,b])\n",
    "        # Print cost every at intervals 10 times or as many iterations if < 10\n",
    "        if i% math.ceil(num_iters/10) == 0:\n",
    "            print(f\"Iteration {i:4}: Cost {J_history[-1]} \",\n",
    "                  f\"dj_dw: {dj_dw}, dj_db: {dj_db}  \",\n",
    "                  f\"w: {w}, b:{b}\")\n",
    " \n",
    "    return w, b, J_history, p_history"
   ]
  },
  {
   "cell_type": "code",
   "execution_count": 20,
   "metadata": {},
   "outputs": [
    {
     "name": "stdout",
     "output_type": "stream",
     "text": [
      "Iteration    0: Cost [1.56337559e+14 1.56337559e+14 1.56337559e+14 1.56337559e+14\n",
      " 1.56337559e+14 1.56337559e+14 1.56337559e+14 1.56337559e+14\n",
      " 1.56337559e+14 1.56337559e+14 1.56337559e+14 1.56337559e+14\n",
      " 1.56337559e+14 1.56337559e+14 1.56337559e+14 1.56337559e+14\n",
      " 1.56337559e+14 1.56337559e+14 1.56337559e+14 1.56337559e+14\n",
      " 1.56337559e+14 1.56337559e+14 1.56337559e+14 1.56337559e+14\n",
      " 1.56337559e+14 1.56337559e+14 1.56337559e+14 1.56337559e+14]  dj_dw: [-1523602.89285714 -1523602.89285714 -1523602.89285714 -1523602.89285714\n",
      " -1523602.89285714 -1523602.89285714 -1523602.89285714 -1523602.89285714\n",
      " -1523602.89285714 -1523602.89285714 -1523602.89285714 -1523602.89285714\n",
      " -1523602.89285714 -1523602.89285714 -1523602.89285714 -1523602.89285714\n",
      " -1523602.89285714 -1523602.89285714 -1523602.89285714 -1523602.89285714\n",
      " -1523602.89285714 -1523602.89285714 -1523602.89285714 -1523602.89285714\n",
      " -1523602.89285714 -1523602.89285714 -1523602.89285714 -1523602.89285714], dj_db: [-1316.53571429 -1316.53571429 -1316.53571429 -1316.53571429\n",
      " -1316.53571429 -1316.53571429 -1316.53571429 -1316.53571429\n",
      " -1316.53571429 -1316.53571429 -1316.53571429 -1316.53571429\n",
      " -1316.53571429 -1316.53571429 -1316.53571429 -1316.53571429\n",
      " -1316.53571429 -1316.53571429 -1316.53571429 -1316.53571429\n",
      " -1316.53571429 -1316.53571429 -1316.53571429 -1316.53571429\n",
      " -1316.53571429 -1316.53571429 -1316.53571429 -1316.53571429]   w: [15236.02892857 15236.02892857 15236.02892857 15236.02892857\n",
      " 15236.02892857 15236.02892857 15236.02892857 15236.02892857\n",
      " 15236.02892857 15236.02892857 15236.02892857 15236.02892857\n",
      " 15236.02892857 15236.02892857 15236.02892857 15236.02892857\n",
      " 15236.02892857 15236.02892857 15236.02892857 15236.02892857\n",
      " 15236.02892857 15236.02892857 15236.02892857 15236.02892857\n",
      " 15236.02892857 15236.02892857 15236.02892857 15236.02892857], b:[13.16535714 13.16535714 13.16535714 13.16535714 13.16535714 13.16535714\n",
      " 13.16535714 13.16535714 13.16535714 13.16535714 13.16535714 13.16535714\n",
      " 13.16535714 13.16535714 13.16535714 13.16535714 13.16535714 13.16535714\n",
      " 13.16535714 13.16535714 13.16535714 13.16535714 13.16535714 13.16535714\n",
      " 13.16535714 13.16535714 13.16535714 13.16535714]\n",
      "Iteration    7: Cost [1.01252692e+72 1.01252692e+72 1.01252692e+72 1.01252692e+72\n",
      " 1.01252692e+72 1.01252692e+72 1.01252692e+72 1.01252692e+72\n",
      " 1.01252692e+72 1.01252692e+72 1.01252692e+72 1.01252692e+72\n",
      " 1.01252692e+72 1.01252692e+72 1.01252692e+72 1.01252692e+72\n",
      " 1.01252692e+72 1.01252692e+72 1.01252692e+72 1.01252692e+72\n",
      " 1.01252692e+72 1.01252692e+72 1.01252692e+72 1.01252692e+72\n",
      " 1.01252692e+72 1.01252692e+72 1.01252692e+72 1.01252692e+72]  dj_dw: [1.22614948e+35 1.22614948e+35 1.22614948e+35 1.22614948e+35\n",
      " 1.22614948e+35 1.22614948e+35 1.22614948e+35 1.22614948e+35\n",
      " 1.22614948e+35 1.22614948e+35 1.22614948e+35 1.22614948e+35\n",
      " 1.22614948e+35 1.22614948e+35 1.22614948e+35 1.22614948e+35\n",
      " 1.22614948e+35 1.22614948e+35 1.22614948e+35 1.22614948e+35\n",
      " 1.22614948e+35 1.22614948e+35 1.22614948e+35 1.22614948e+35\n",
      " 1.22614948e+35 1.22614948e+35 1.22614948e+35 1.22614948e+35], dj_db: [1.04677816e+32 1.04677816e+32 1.04677816e+32 1.04677816e+32\n",
      " 1.04677816e+32 1.04677816e+32 1.04677816e+32 1.04677816e+32\n",
      " 1.04677816e+32 1.04677816e+32 1.04677816e+32 1.04677816e+32\n",
      " 1.04677816e+32 1.04677816e+32 1.04677816e+32 1.04677816e+32\n",
      " 1.04677816e+32 1.04677816e+32 1.04677816e+32 1.04677816e+32\n",
      " 1.04677816e+32 1.04677816e+32 1.04677816e+32 1.04677816e+32\n",
      " 1.04677816e+32 1.04677816e+32 1.04677816e+32 1.04677816e+32]   w: [-1.22605846e+33 -1.22605846e+33 -1.22605846e+33 -1.22605846e+33\n",
      " -1.22605846e+33 -1.22605846e+33 -1.22605846e+33 -1.22605846e+33\n",
      " -1.22605846e+33 -1.22605846e+33 -1.22605846e+33 -1.22605846e+33\n",
      " -1.22605846e+33 -1.22605846e+33 -1.22605846e+33 -1.22605846e+33\n",
      " -1.22605846e+33 -1.22605846e+33 -1.22605846e+33 -1.22605846e+33\n",
      " -1.22605846e+33 -1.22605846e+33 -1.22605846e+33 -1.22605846e+33\n",
      " -1.22605846e+33 -1.22605846e+33 -1.22605846e+33 -1.22605846e+33], b:[-1.04670046e+30 -1.04670046e+30 -1.04670046e+30 -1.04670046e+30\n",
      " -1.04670046e+30 -1.04670046e+30 -1.04670046e+30 -1.04670046e+30\n",
      " -1.04670046e+30 -1.04670046e+30 -1.04670046e+30 -1.04670046e+30\n",
      " -1.04670046e+30 -1.04670046e+30 -1.04670046e+30 -1.04670046e+30\n",
      " -1.04670046e+30 -1.04670046e+30 -1.04670046e+30 -1.04670046e+30\n",
      " -1.04670046e+30 -1.04670046e+30 -1.04670046e+30 -1.04670046e+30\n",
      " -1.04670046e+30 -1.04670046e+30 -1.04670046e+30 -1.04670046e+30]\n",
      "Iteration   14: Cost [6.5576741e+129 6.5576741e+129 6.5576741e+129 6.5576741e+129\n",
      " 6.5576741e+129 6.5576741e+129 6.5576741e+129 6.5576741e+129\n",
      " 6.5576741e+129 6.5576741e+129 6.5576741e+129 6.5576741e+129\n",
      " 6.5576741e+129 6.5576741e+129 6.5576741e+129 6.5576741e+129\n",
      " 6.5576741e+129 6.5576741e+129 6.5576741e+129 6.5576741e+129\n",
      " 6.5576741e+129 6.5576741e+129 6.5576741e+129 6.5576741e+129\n",
      " 6.5576741e+129 6.5576741e+129 6.5576741e+129 6.5576741e+129]  dj_dw: [-9.86767969e+63 -9.86767969e+63 -9.86767969e+63 -9.86767969e+63\n",
      " -9.86767969e+63 -9.86767969e+63 -9.86767969e+63 -9.86767969e+63\n",
      " -9.86767969e+63 -9.86767969e+63 -9.86767969e+63 -9.86767969e+63\n",
      " -9.86767969e+63 -9.86767969e+63 -9.86767969e+63 -9.86767969e+63\n",
      " -9.86767969e+63 -9.86767969e+63 -9.86767969e+63 -9.86767969e+63\n",
      " -9.86767969e+63 -9.86767969e+63 -9.86767969e+63 -9.86767969e+63\n",
      " -9.86767969e+63 -9.86767969e+63 -9.86767969e+63 -9.86767969e+63], dj_db: [-8.42415366e+60 -8.42415366e+60 -8.42415366e+60 -8.42415366e+60\n",
      " -8.42415366e+60 -8.42415366e+60 -8.42415366e+60 -8.42415366e+60\n",
      " -8.42415366e+60 -8.42415366e+60 -8.42415366e+60 -8.42415366e+60\n",
      " -8.42415366e+60 -8.42415366e+60 -8.42415366e+60 -8.42415366e+60\n",
      " -8.42415366e+60 -8.42415366e+60 -8.42415366e+60 -8.42415366e+60\n",
      " -8.42415366e+60 -8.42415366e+60 -8.42415366e+60 -8.42415366e+60\n",
      " -8.42415366e+60 -8.42415366e+60 -8.42415366e+60 -8.42415366e+60]   w: [9.8669472e+61 9.8669472e+61 9.8669472e+61 9.8669472e+61 9.8669472e+61\n",
      " 9.8669472e+61 9.8669472e+61 9.8669472e+61 9.8669472e+61 9.8669472e+61\n",
      " 9.8669472e+61 9.8669472e+61 9.8669472e+61 9.8669472e+61 9.8669472e+61\n",
      " 9.8669472e+61 9.8669472e+61 9.8669472e+61 9.8669472e+61 9.8669472e+61\n",
      " 9.8669472e+61 9.8669472e+61 9.8669472e+61 9.8669472e+61 9.8669472e+61\n",
      " 9.8669472e+61 9.8669472e+61 9.8669472e+61], b:[8.42352833e+58 8.42352833e+58 8.42352833e+58 8.42352833e+58\n",
      " 8.42352833e+58 8.42352833e+58 8.42352833e+58 8.42352833e+58\n",
      " 8.42352833e+58 8.42352833e+58 8.42352833e+58 8.42352833e+58\n",
      " 8.42352833e+58 8.42352833e+58 8.42352833e+58 8.42352833e+58\n",
      " 8.42352833e+58 8.42352833e+58 8.42352833e+58 8.42352833e+58\n",
      " 8.42352833e+58 8.42352833e+58 8.42352833e+58 8.42352833e+58\n",
      " 8.42352833e+58 8.42352833e+58 8.42352833e+58 8.42352833e+58]\n",
      "Iteration   21: Cost [4.24710581e+187 4.24710581e+187 4.24710581e+187 4.24710581e+187\n",
      " 4.24710581e+187 4.24710581e+187 4.24710581e+187 4.24710581e+187\n",
      " 4.24710581e+187 4.24710581e+187 4.24710581e+187 4.24710581e+187\n",
      " 4.24710581e+187 4.24710581e+187 4.24710581e+187 4.24710581e+187\n",
      " 4.24710581e+187 4.24710581e+187 4.24710581e+187 4.24710581e+187\n",
      " 4.24710581e+187 4.24710581e+187 4.24710581e+187 4.24710581e+187\n",
      " 4.24710581e+187 4.24710581e+187 4.24710581e+187 4.24710581e+187]  dj_dw: [7.94120979e+92 7.94120979e+92 7.94120979e+92 7.94120979e+92\n",
      " 7.94120979e+92 7.94120979e+92 7.94120979e+92 7.94120979e+92\n",
      " 7.94120979e+92 7.94120979e+92 7.94120979e+92 7.94120979e+92\n",
      " 7.94120979e+92 7.94120979e+92 7.94120979e+92 7.94120979e+92\n",
      " 7.94120979e+92 7.94120979e+92 7.94120979e+92 7.94120979e+92\n",
      " 7.94120979e+92 7.94120979e+92 7.94120979e+92 7.94120979e+92\n",
      " 7.94120979e+92 7.94120979e+92 7.94120979e+92 7.94120979e+92], dj_db: [6.77950376e+89 6.77950376e+89 6.77950376e+89 6.77950376e+89\n",
      " 6.77950376e+89 6.77950376e+89 6.77950376e+89 6.77950376e+89\n",
      " 6.77950376e+89 6.77950376e+89 6.77950376e+89 6.77950376e+89\n",
      " 6.77950376e+89 6.77950376e+89 6.77950376e+89 6.77950376e+89\n",
      " 6.77950376e+89 6.77950376e+89 6.77950376e+89 6.77950376e+89\n",
      " 6.77950376e+89 6.77950376e+89 6.77950376e+89 6.77950376e+89\n",
      " 6.77950376e+89 6.77950376e+89 6.77950376e+89 6.77950376e+89]   w: [-7.9406203e+90 -7.9406203e+90 -7.9406203e+90 -7.9406203e+90\n",
      " -7.9406203e+90 -7.9406203e+90 -7.9406203e+90 -7.9406203e+90\n",
      " -7.9406203e+90 -7.9406203e+90 -7.9406203e+90 -7.9406203e+90\n",
      " -7.9406203e+90 -7.9406203e+90 -7.9406203e+90 -7.9406203e+90\n",
      " -7.9406203e+90 -7.9406203e+90 -7.9406203e+90 -7.9406203e+90\n",
      " -7.9406203e+90 -7.9406203e+90 -7.9406203e+90 -7.9406203e+90\n",
      " -7.9406203e+90 -7.9406203e+90 -7.9406203e+90 -7.9406203e+90], b:[-6.77900051e+87 -6.77900051e+87 -6.77900051e+87 -6.77900051e+87\n",
      " -6.77900051e+87 -6.77900051e+87 -6.77900051e+87 -6.77900051e+87\n",
      " -6.77900051e+87 -6.77900051e+87 -6.77900051e+87 -6.77900051e+87\n",
      " -6.77900051e+87 -6.77900051e+87 -6.77900051e+87 -6.77900051e+87\n",
      " -6.77900051e+87 -6.77900051e+87 -6.77900051e+87 -6.77900051e+87\n",
      " -6.77900051e+87 -6.77900051e+87 -6.77900051e+87 -6.77900051e+87\n",
      " -6.77900051e+87 -6.77900051e+87 -6.77900051e+87 -6.77900051e+87]\n",
      "Iteration   28: Cost [2.75065632e+245 2.75065632e+245 2.75065632e+245 2.75065632e+245\n",
      " 2.75065632e+245 2.75065632e+245 2.75065632e+245 2.75065632e+245\n",
      " 2.75065632e+245 2.75065632e+245 2.75065632e+245 2.75065632e+245\n",
      " 2.75065632e+245 2.75065632e+245 2.75065632e+245 2.75065632e+245\n",
      " 2.75065632e+245 2.75065632e+245 2.75065632e+245 2.75065632e+245\n",
      " 2.75065632e+245 2.75065632e+245 2.75065632e+245 2.75065632e+245\n",
      " 2.75065632e+245 2.75065632e+245 2.75065632e+245 2.75065632e+245]  dj_dw: [-6.39084515e+121 -6.39084515e+121 -6.39084515e+121 -6.39084515e+121\n",
      " -6.39084515e+121 -6.39084515e+121 -6.39084515e+121 -6.39084515e+121\n",
      " -6.39084515e+121 -6.39084515e+121 -6.39084515e+121 -6.39084515e+121\n",
      " -6.39084515e+121 -6.39084515e+121 -6.39084515e+121 -6.39084515e+121\n",
      " -6.39084515e+121 -6.39084515e+121 -6.39084515e+121 -6.39084515e+121\n",
      " -6.39084515e+121 -6.39084515e+121 -6.39084515e+121 -6.39084515e+121\n",
      " -6.39084515e+121 -6.39084515e+121 -6.39084515e+121 -6.39084515e+121], dj_db: [-5.45593932e+118 -5.45593932e+118 -5.45593932e+118 -5.45593932e+118\n",
      " -5.45593932e+118 -5.45593932e+118 -5.45593932e+118 -5.45593932e+118\n",
      " -5.45593932e+118 -5.45593932e+118 -5.45593932e+118 -5.45593932e+118\n",
      " -5.45593932e+118 -5.45593932e+118 -5.45593932e+118 -5.45593932e+118\n",
      " -5.45593932e+118 -5.45593932e+118 -5.45593932e+118 -5.45593932e+118\n",
      " -5.45593932e+118 -5.45593932e+118 -5.45593932e+118 -5.45593932e+118\n",
      " -5.45593932e+118 -5.45593932e+118 -5.45593932e+118 -5.45593932e+118]   w: [6.39037075e+119 6.39037075e+119 6.39037075e+119 6.39037075e+119\n",
      " 6.39037075e+119 6.39037075e+119 6.39037075e+119 6.39037075e+119\n",
      " 6.39037075e+119 6.39037075e+119 6.39037075e+119 6.39037075e+119\n",
      " 6.39037075e+119 6.39037075e+119 6.39037075e+119 6.39037075e+119\n",
      " 6.39037075e+119 6.39037075e+119 6.39037075e+119 6.39037075e+119\n",
      " 6.39037075e+119 6.39037075e+119 6.39037075e+119 6.39037075e+119\n",
      " 6.39037075e+119 6.39037075e+119 6.39037075e+119 6.39037075e+119], b:[5.45553432e+116 5.45553432e+116 5.45553432e+116 5.45553432e+116\n",
      " 5.45553432e+116 5.45553432e+116 5.45553432e+116 5.45553432e+116\n",
      " 5.45553432e+116 5.45553432e+116 5.45553432e+116 5.45553432e+116\n",
      " 5.45553432e+116 5.45553432e+116 5.45553432e+116 5.45553432e+116\n",
      " 5.45553432e+116 5.45553432e+116 5.45553432e+116 5.45553432e+116\n",
      " 5.45553432e+116 5.45553432e+116 5.45553432e+116 5.45553432e+116\n",
      " 5.45553432e+116 5.45553432e+116 5.45553432e+116 5.45553432e+116]\n",
      "Iteration   35: Cost [1.78147439e+303 1.78147439e+303 1.78147439e+303 1.78147439e+303\n",
      " 1.78147439e+303 1.78147439e+303 1.78147439e+303 1.78147439e+303\n",
      " 1.78147439e+303 1.78147439e+303 1.78147439e+303 1.78147439e+303\n",
      " 1.78147439e+303 1.78147439e+303 1.78147439e+303 1.78147439e+303\n",
      " 1.78147439e+303 1.78147439e+303 1.78147439e+303 1.78147439e+303\n",
      " 1.78147439e+303 1.78147439e+303 1.78147439e+303 1.78147439e+303\n",
      " 1.78147439e+303 1.78147439e+303 1.78147439e+303 1.78147439e+303]  dj_dw: [5.14315864e+150 5.14315864e+150 5.14315864e+150 5.14315864e+150\n",
      " 5.14315864e+150 5.14315864e+150 5.14315864e+150 5.14315864e+150\n",
      " 5.14315864e+150 5.14315864e+150 5.14315864e+150 5.14315864e+150\n",
      " 5.14315864e+150 5.14315864e+150 5.14315864e+150 5.14315864e+150\n",
      " 5.14315864e+150 5.14315864e+150 5.14315864e+150 5.14315864e+150\n",
      " 5.14315864e+150 5.14315864e+150 5.14315864e+150 5.14315864e+150\n",
      " 5.14315864e+150 5.14315864e+150 5.14315864e+150 5.14315864e+150], dj_db: [4.39077474e+147 4.39077474e+147 4.39077474e+147 4.39077474e+147\n",
      " 4.39077474e+147 4.39077474e+147 4.39077474e+147 4.39077474e+147\n",
      " 4.39077474e+147 4.39077474e+147 4.39077474e+147 4.39077474e+147\n",
      " 4.39077474e+147 4.39077474e+147 4.39077474e+147 4.39077474e+147\n",
      " 4.39077474e+147 4.39077474e+147 4.39077474e+147 4.39077474e+147\n",
      " 4.39077474e+147 4.39077474e+147 4.39077474e+147 4.39077474e+147\n",
      " 4.39077474e+147 4.39077474e+147 4.39077474e+147 4.39077474e+147]   w: [-5.14277686e+148 -5.14277686e+148 -5.14277686e+148 -5.14277686e+148\n",
      " -5.14277686e+148 -5.14277686e+148 -5.14277686e+148 -5.14277686e+148\n",
      " -5.14277686e+148 -5.14277686e+148 -5.14277686e+148 -5.14277686e+148\n",
      " -5.14277686e+148 -5.14277686e+148 -5.14277686e+148 -5.14277686e+148\n",
      " -5.14277686e+148 -5.14277686e+148 -5.14277686e+148 -5.14277686e+148\n",
      " -5.14277686e+148 -5.14277686e+148 -5.14277686e+148 -5.14277686e+148\n",
      " -5.14277686e+148 -5.14277686e+148 -5.14277686e+148 -5.14277686e+148], b:[-4.39044881e+145 -4.39044881e+145 -4.39044881e+145 -4.39044881e+145\n",
      " -4.39044881e+145 -4.39044881e+145 -4.39044881e+145 -4.39044881e+145\n",
      " -4.39044881e+145 -4.39044881e+145 -4.39044881e+145 -4.39044881e+145\n",
      " -4.39044881e+145 -4.39044881e+145 -4.39044881e+145 -4.39044881e+145\n",
      " -4.39044881e+145 -4.39044881e+145 -4.39044881e+145 -4.39044881e+145\n",
      " -4.39044881e+145 -4.39044881e+145 -4.39044881e+145 -4.39044881e+145\n",
      " -4.39044881e+145 -4.39044881e+145 -4.39044881e+145 -4.39044881e+145]\n",
      "Iteration   42: Cost [inf inf inf inf inf inf inf inf inf inf inf inf inf inf inf inf inf inf\n",
      " inf inf inf inf inf inf inf inf inf inf]  dj_dw: [-4.13905832e+179 -4.13905832e+179 -4.13905832e+179 -4.13905832e+179\n",
      " -4.13905832e+179 -4.13905832e+179 -4.13905832e+179 -4.13905832e+179\n",
      " -4.13905832e+179 -4.13905832e+179 -4.13905832e+179 -4.13905832e+179\n",
      " -4.13905832e+179 -4.13905832e+179 -4.13905832e+179 -4.13905832e+179\n",
      " -4.13905832e+179 -4.13905832e+179 -4.13905832e+179 -4.13905832e+179\n",
      " -4.13905832e+179 -4.13905832e+179 -4.13905832e+179 -4.13905832e+179\n",
      " -4.13905832e+179 -4.13905832e+179 -4.13905832e+179 -4.13905832e+179], dj_db: [-3.53356254e+176 -3.53356254e+176 -3.53356254e+176 -3.53356254e+176\n",
      " -3.53356254e+176 -3.53356254e+176 -3.53356254e+176 -3.53356254e+176\n",
      " -3.53356254e+176 -3.53356254e+176 -3.53356254e+176 -3.53356254e+176\n",
      " -3.53356254e+176 -3.53356254e+176 -3.53356254e+176 -3.53356254e+176\n",
      " -3.53356254e+176 -3.53356254e+176 -3.53356254e+176 -3.53356254e+176\n",
      " -3.53356254e+176 -3.53356254e+176 -3.53356254e+176 -3.53356254e+176\n",
      " -3.53356254e+176 -3.53356254e+176 -3.53356254e+176 -3.53356254e+176]   w: [4.13875107e+177 4.13875107e+177 4.13875107e+177 4.13875107e+177\n",
      " 4.13875107e+177 4.13875107e+177 4.13875107e+177 4.13875107e+177\n",
      " 4.13875107e+177 4.13875107e+177 4.13875107e+177 4.13875107e+177\n",
      " 4.13875107e+177 4.13875107e+177 4.13875107e+177 4.13875107e+177\n",
      " 4.13875107e+177 4.13875107e+177 4.13875107e+177 4.13875107e+177\n",
      " 4.13875107e+177 4.13875107e+177 4.13875107e+177 4.13875107e+177\n",
      " 4.13875107e+177 4.13875107e+177 4.13875107e+177 4.13875107e+177], b:[3.53330024e+174 3.53330024e+174 3.53330024e+174 3.53330024e+174\n",
      " 3.53330024e+174 3.53330024e+174 3.53330024e+174 3.53330024e+174\n",
      " 3.53330024e+174 3.53330024e+174 3.53330024e+174 3.53330024e+174\n",
      " 3.53330024e+174 3.53330024e+174 3.53330024e+174 3.53330024e+174\n",
      " 3.53330024e+174 3.53330024e+174 3.53330024e+174 3.53330024e+174\n",
      " 3.53330024e+174 3.53330024e+174 3.53330024e+174 3.53330024e+174\n",
      " 3.53330024e+174 3.53330024e+174 3.53330024e+174 3.53330024e+174]\n",
      "Iteration   49: Cost [inf inf inf inf inf inf inf inf inf inf inf inf inf inf inf inf inf inf\n",
      " inf inf inf inf inf inf inf inf inf inf]  dj_dw: [3.33098879e+208 3.33098879e+208 3.33098879e+208 3.33098879e+208\n",
      " 3.33098879e+208 3.33098879e+208 3.33098879e+208 3.33098879e+208\n",
      " 3.33098879e+208 3.33098879e+208 3.33098879e+208 3.33098879e+208\n",
      " 3.33098879e+208 3.33098879e+208 3.33098879e+208 3.33098879e+208\n",
      " 3.33098879e+208 3.33098879e+208 3.33098879e+208 3.33098879e+208\n",
      " 3.33098879e+208 3.33098879e+208 3.33098879e+208 3.33098879e+208\n",
      " 3.33098879e+208 3.33098879e+208 3.33098879e+208 3.33098879e+208], dj_db: [2.84370413e+205 2.84370413e+205 2.84370413e+205 2.84370413e+205\n",
      " 2.84370413e+205 2.84370413e+205 2.84370413e+205 2.84370413e+205\n",
      " 2.84370413e+205 2.84370413e+205 2.84370413e+205 2.84370413e+205\n",
      " 2.84370413e+205 2.84370413e+205 2.84370413e+205 2.84370413e+205\n",
      " 2.84370413e+205 2.84370413e+205 2.84370413e+205 2.84370413e+205\n",
      " 2.84370413e+205 2.84370413e+205 2.84370413e+205 2.84370413e+205\n",
      " 2.84370413e+205 2.84370413e+205 2.84370413e+205 2.84370413e+205]   w: [-3.33074153e+206 -3.33074153e+206 -3.33074153e+206 -3.33074153e+206\n",
      " -3.33074153e+206 -3.33074153e+206 -3.33074153e+206 -3.33074153e+206\n",
      " -3.33074153e+206 -3.33074153e+206 -3.33074153e+206 -3.33074153e+206\n",
      " -3.33074153e+206 -3.33074153e+206 -3.33074153e+206 -3.33074153e+206\n",
      " -3.33074153e+206 -3.33074153e+206 -3.33074153e+206 -3.33074153e+206\n",
      " -3.33074153e+206 -3.33074153e+206 -3.33074153e+206 -3.33074153e+206\n",
      " -3.33074153e+206 -3.33074153e+206 -3.33074153e+206 -3.33074153e+206], b:[-2.84349303e+203 -2.84349303e+203 -2.84349303e+203 -2.84349303e+203\n",
      " -2.84349303e+203 -2.84349303e+203 -2.84349303e+203 -2.84349303e+203\n",
      " -2.84349303e+203 -2.84349303e+203 -2.84349303e+203 -2.84349303e+203\n",
      " -2.84349303e+203 -2.84349303e+203 -2.84349303e+203 -2.84349303e+203\n",
      " -2.84349303e+203 -2.84349303e+203 -2.84349303e+203 -2.84349303e+203\n",
      " -2.84349303e+203 -2.84349303e+203 -2.84349303e+203 -2.84349303e+203\n",
      " -2.84349303e+203 -2.84349303e+203 -2.84349303e+203 -2.84349303e+203]\n",
      "Iteration   56: Cost [inf inf inf inf inf inf inf inf inf inf inf inf inf inf inf inf inf inf\n",
      " inf inf inf inf inf inf inf inf inf inf]  dj_dw: [-2.68067891e+237 -2.68067891e+237 -2.68067891e+237 -2.68067891e+237\n",
      " -2.68067891e+237 -2.68067891e+237 -2.68067891e+237 -2.68067891e+237\n",
      " -2.68067891e+237 -2.68067891e+237 -2.68067891e+237 -2.68067891e+237\n",
      " -2.68067891e+237 -2.68067891e+237 -2.68067891e+237 -2.68067891e+237\n",
      " -2.68067891e+237 -2.68067891e+237 -2.68067891e+237 -2.68067891e+237\n",
      " -2.68067891e+237 -2.68067891e+237 -2.68067891e+237 -2.68067891e+237\n",
      " -2.68067891e+237 -2.68067891e+237 -2.68067891e+237 -2.68067891e+237], dj_db: [-2.28852696e+234 -2.28852696e+234 -2.28852696e+234 -2.28852696e+234\n",
      " -2.28852696e+234 -2.28852696e+234 -2.28852696e+234 -2.28852696e+234\n",
      " -2.28852696e+234 -2.28852696e+234 -2.28852696e+234 -2.28852696e+234\n",
      " -2.28852696e+234 -2.28852696e+234 -2.28852696e+234 -2.28852696e+234\n",
      " -2.28852696e+234 -2.28852696e+234 -2.28852696e+234 -2.28852696e+234\n",
      " -2.28852696e+234 -2.28852696e+234 -2.28852696e+234 -2.28852696e+234\n",
      " -2.28852696e+234 -2.28852696e+234 -2.28852696e+234 -2.28852696e+234]   w: [2.68047992e+235 2.68047992e+235 2.68047992e+235 2.68047992e+235\n",
      " 2.68047992e+235 2.68047992e+235 2.68047992e+235 2.68047992e+235\n",
      " 2.68047992e+235 2.68047992e+235 2.68047992e+235 2.68047992e+235\n",
      " 2.68047992e+235 2.68047992e+235 2.68047992e+235 2.68047992e+235\n",
      " 2.68047992e+235 2.68047992e+235 2.68047992e+235 2.68047992e+235\n",
      " 2.68047992e+235 2.68047992e+235 2.68047992e+235 2.68047992e+235\n",
      " 2.68047992e+235 2.68047992e+235 2.68047992e+235 2.68047992e+235], b:[2.28835708e+232 2.28835708e+232 2.28835708e+232 2.28835708e+232\n",
      " 2.28835708e+232 2.28835708e+232 2.28835708e+232 2.28835708e+232\n",
      " 2.28835708e+232 2.28835708e+232 2.28835708e+232 2.28835708e+232\n",
      " 2.28835708e+232 2.28835708e+232 2.28835708e+232 2.28835708e+232\n",
      " 2.28835708e+232 2.28835708e+232 2.28835708e+232 2.28835708e+232\n",
      " 2.28835708e+232 2.28835708e+232 2.28835708e+232 2.28835708e+232\n",
      " 2.28835708e+232 2.28835708e+232 2.28835708e+232 2.28835708e+232]\n",
      "Iteration   63: Cost [inf inf inf inf inf inf inf inf inf inf inf inf inf inf inf inf inf inf\n",
      " inf inf inf inf inf inf inf inf inf inf]  dj_dw: [2.1573292e+266 2.1573292e+266 2.1573292e+266 2.1573292e+266\n",
      " 2.1573292e+266 2.1573292e+266 2.1573292e+266 2.1573292e+266\n",
      " 2.1573292e+266 2.1573292e+266 2.1573292e+266 2.1573292e+266\n",
      " 2.1573292e+266 2.1573292e+266 2.1573292e+266 2.1573292e+266\n",
      " 2.1573292e+266 2.1573292e+266 2.1573292e+266 2.1573292e+266\n",
      " 2.1573292e+266 2.1573292e+266 2.1573292e+266 2.1573292e+266\n",
      " 2.1573292e+266 2.1573292e+266 2.1573292e+266 2.1573292e+266], dj_db: [1.8417372e+263 1.8417372e+263 1.8417372e+263 1.8417372e+263\n",
      " 1.8417372e+263 1.8417372e+263 1.8417372e+263 1.8417372e+263\n",
      " 1.8417372e+263 1.8417372e+263 1.8417372e+263 1.8417372e+263\n",
      " 1.8417372e+263 1.8417372e+263 1.8417372e+263 1.8417372e+263\n",
      " 1.8417372e+263 1.8417372e+263 1.8417372e+263 1.8417372e+263\n",
      " 1.8417372e+263 1.8417372e+263 1.8417372e+263 1.8417372e+263\n",
      " 1.8417372e+263 1.8417372e+263 1.8417372e+263 1.8417372e+263]   w: [-2.15716906e+264 -2.15716906e+264 -2.15716906e+264 -2.15716906e+264\n",
      " -2.15716906e+264 -2.15716906e+264 -2.15716906e+264 -2.15716906e+264\n",
      " -2.15716906e+264 -2.15716906e+264 -2.15716906e+264 -2.15716906e+264\n",
      " -2.15716906e+264 -2.15716906e+264 -2.15716906e+264 -2.15716906e+264\n",
      " -2.15716906e+264 -2.15716906e+264 -2.15716906e+264 -2.15716906e+264\n",
      " -2.15716906e+264 -2.15716906e+264 -2.15716906e+264 -2.15716906e+264\n",
      " -2.15716906e+264 -2.15716906e+264 -2.15716906e+264 -2.15716906e+264], b:[-1.84160048e+261 -1.84160048e+261 -1.84160048e+261 -1.84160048e+261\n",
      " -1.84160048e+261 -1.84160048e+261 -1.84160048e+261 -1.84160048e+261\n",
      " -1.84160048e+261 -1.84160048e+261 -1.84160048e+261 -1.84160048e+261\n",
      " -1.84160048e+261 -1.84160048e+261 -1.84160048e+261 -1.84160048e+261\n",
      " -1.84160048e+261 -1.84160048e+261 -1.84160048e+261 -1.84160048e+261\n",
      " -1.84160048e+261 -1.84160048e+261 -1.84160048e+261 -1.84160048e+261\n",
      " -1.84160048e+261 -1.84160048e+261 -1.84160048e+261 -1.84160048e+261]\n",
      "(w,b) found by gradient descent: ([-1.28876623e+289 -1.28876623e+289 -1.28876623e+289 -1.28876623e+289\n",
      " -1.28876623e+289 -1.28876623e+289 -1.28876623e+289 -1.28876623e+289\n",
      " -1.28876623e+289 -1.28876623e+289 -1.28876623e+289 -1.28876623e+289\n",
      " -1.28876623e+289 -1.28876623e+289 -1.28876623e+289 -1.28876623e+289\n",
      " -1.28876623e+289 -1.28876623e+289 -1.28876623e+289 -1.28876623e+289\n",
      " -1.28876623e+289 -1.28876623e+289 -1.28876623e+289 -1.28876623e+289\n",
      " -1.28876623e+289 -1.28876623e+289 -1.28876623e+289 -1.28876623e+289],[-1.10023482e+286 -1.10023482e+286 -1.10023482e+286 -1.10023482e+286\n",
      " -1.10023482e+286 -1.10023482e+286 -1.10023482e+286 -1.10023482e+286\n",
      " -1.10023482e+286 -1.10023482e+286 -1.10023482e+286 -1.10023482e+286\n",
      " -1.10023482e+286 -1.10023482e+286 -1.10023482e+286 -1.10023482e+286\n",
      " -1.10023482e+286 -1.10023482e+286 -1.10023482e+286 -1.10023482e+286\n",
      " -1.10023482e+286 -1.10023482e+286 -1.10023482e+286 -1.10023482e+286\n",
      " -1.10023482e+286 -1.10023482e+286 -1.10023482e+286 -1.10023482e+286])\n"
     ]
    },
    {
     "name": "stderr",
     "output_type": "stream",
     "text": [
      "C:\\Users\\user\\AppData\\Local\\Temp\\ipykernel_12344\\257174254.py:7: RuntimeWarning: overflow encountered in square\n",
      "  cost = cost + (f_wb - y[i])**2\n"
     ]
    }
   ],
   "source": [
    "w_init = np.zeros(28)\n",
    "b_init = np.zeros(28)\n",
    "iterations = 70\n",
    "tmp_alpha = 1.0e-2\n",
    "w_final, b_final, J_hist, p_hist = gradient_descent(X_train ,y_train, w_init, b_init, tmp_alpha, \n",
    "                                                    iterations, compute_cost, compute_gradient)\n",
    "print(f\"(w,b) found by gradient descent: ({w_final},{b_final})\")"
   ]
  },
  {
   "cell_type": "code",
   "execution_count": 21,
   "metadata": {},
   "outputs": [
    {
     "data": {
      "image/png": "[encoded data removed]",
      "text/plain": [
       "<Figure size 1200x400 with 2 Axes>"
      ]
     },
     "metadata": {},
     "output_type": "display_data"
    }
   ],
   "source": [
    "fig, (ax1, ax2) = plt.subplots(1, 2, constrained_layout=True, figsize=(12,4))\n",
    "ax1.plot(J_hist[:100])\n",
    "ax2.plot(1000 + np.arange(len(J_hist[1000:])), J_hist[1000:])\n",
    "ax1.set_title(\"Cost vs. iteration(start)\");  ax2.set_title(\"Cost vs. iteration (end)\")\n",
    "ax1.set_ylabel('Cost')            ;  ax2.set_ylabel('Cost') \n",
    "ax1.set_xlabel('iteration step')  ;  ax2.set_xlabel('iteration step') \n",
    "plt.show()"
   ]
  },
  {
   "cell_type": "code",
   "execution_count": 22,
   "metadata": {},
   "outputs": [
    {
     "data": {
      "text/plain": [
       "array([-1.37898097e+292, -1.38542480e+292, -1.64317805e+292,\n",
       "       -1.44986311e+292, -1.62384655e+292, -1.57873973e+292,\n",
       "       -1.48208227e+292, -9.02137462e+291, -1.77205467e+292,\n",
       "       -1.39186863e+292, -1.57873973e+292, -1.61095889e+292,\n",
       "       -1.61095889e+292, -1.51430142e+292, -1.41764395e+292,\n",
       "       -1.41764395e+292, -1.51430142e+292, -1.40088999e+292,\n",
       "       -1.15989071e+292, -1.70761636e+292, -1.15989071e+292,\n",
       "       -1.09545240e+292, -1.54652058e+292, -1.48208227e+292,\n",
       "       -1.73983551e+292, -1.54652058e+292, -1.67539720e+292,\n",
       "       -1.71406019e+292])"
      ]
     },
     "execution_count": 22,
     "metadata": {},
     "output_type": "execute_result"
    }
   ],
   "source": [
    "m = X_train.shape[0]\n",
    "predicted = np.zeros(m)\n",
    "\n",
    "for i in range(m):\n",
    "    predicted[i] = w_final[i] * X_train[i] + b_final[i]\n",
    "predicted"
   ]
  },
  {
   "cell_type": "code",
   "execution_count": 23,
   "metadata": {},
   "outputs": [
    {
     "data": {
      "text/plain": [
       "Text(0.5, 0, 'x')"
      ]
     },
     "execution_count": 23,
     "metadata": {},
     "output_type": "execute_result"
    },
    {
     "data": {
      "image/png": "[encoded data removed]",
      "text/plain": [
       "<Figure size 640x480 with 1 Axes>"
      ]
     },
     "metadata": {},
     "output_type": "display_data"
    }
   ],
   "source": [
    "plt.plot(X_train, predicted, c = \"b\")\n",
    "\n",
    "plt.scatter(X_train, y_train, marker='x', c='r') \n",
    "\n",
    "# Set the title\n",
    "plt.title(\"Inference with Linear Regression\")\n",
    "# Set the y-axis label\n",
    "plt.ylabel('y')\n",
    "# Set the x-axis label\n",
    "plt.xlabel('x')"
   ]
  },
  {
   "cell_type": "code",
   "execution_count": 24,
   "metadata": {},
   "outputs": [
    {
     "name": "stderr",
     "output_type": "stream",
     "text": [
      "c:\\Users\\user\\anaconda3\\envs\\pycaretenv\\lib\\site-packages\\sklearn\\metrics\\_regression.py:927: RuntimeWarning: overflow encountered in square\n",
      "  numerator = (weight * (y_true - y_pred) ** 2).sum(axis=0, dtype=np.float64)\n"
     ]
    },
    {
     "data": {
      "text/plain": [
       "-inf"
      ]
     },
     "execution_count": 24,
     "metadata": {},
     "output_type": "execute_result"
    }
   ],
   "source": [
    "from sklearn.metrics import r2_score\n",
    "score = r2_score(yhat, predicted)\n",
    "score"
   ]
  },
  {
   "cell_type": "code",
   "execution_count": 25,
   "metadata": {},
   "outputs": [
    {
     "name": "stderr",
     "output_type": "stream",
     "text": [
      "c:\\Users\\user\\anaconda3\\envs\\pycaretenv\\lib\\site-packages\\scipy\\linalg\\_basic.py:1298: RuntimeWarning: overflow encountered in square\n",
      "  resids = np.sum(np.abs(x[n:])**2, axis=0)\n"
     ]
    },
    {
     "data": {
      "image/png": "[encoded data removed]",
      "text/plain": [
       "<Figure size 640x480 with 1 Axes>"
      ]
     },
     "metadata": {},
     "output_type": "display_data"
    }
   ],
   "source": [
    "fig, ax = plt.subplots()\n",
    "ax.scatter(yhat, predicted)\n",
    "ax.plot([y.min(), y.max()], [y.min(), y.max()], 'k--', lw=4)\n",
    "ax.set_xlabel('Actual')\n",
    "ax.set_ylabel('Predicted')\n",
    "#regression line\n",
    "y_test, y_predicted = yhat.reshape(-1,1), predicted.reshape(-1,1)\n",
    "ax.plot(y_test, LinearRegression().fit(y_test, y_predicted).predict(y_test))\n",
    "\n",
    "plt.show()"
   ]
  },
  {
   "cell_type": "code",
   "execution_count": 26,
   "metadata": {},
   "outputs": [],
   "source": [
    "import numpy as np\n",
    "\n",
    "def vectorized_compute_cost(X, y, w):\n",
    "    m = len(y)\n",
    "    predictions = np.dot(X, w)\n",
    "    error = predictions - y\n",
    "    cost = (1 / (2 * m)) * np.sum(error**2)\n",
    "    return cost\n",
    "\n",
    "def vectorized_compute_gradient(X, y, w):\n",
    "    m = len(y)\n",
    "    predictions = np.dot(X, w)\n",
    "    error = predictions - y\n",
    "    gradient = (1 / m) * np.dot(X.T, error)\n",
    "    return gradient\n",
    "\n",
    "def gradient_descent(X, y, w, learning_rate, num_epochs):\n",
    "    m = len(y)\n",
    "    loss_history = []\n",
    "\n",
    "    for epoch in range(num_epochs):\n",
    "        gradient = vectorized_compute_gradient(X, y, w)\n",
    "        w -= learning_rate * gradient\n",
    "        cost = vectorized_compute_cost(X, y, w)\n",
    "        loss_history.append(cost)\n",
    "\n",
    "    return w, loss_history"
   ]
  },
  {
   "cell_type": "code",
   "execution_count": 36,
   "metadata": {},
   "outputs": [],
   "source": [
    "import matplotlib.pyplot as plt\n",
    "from sklearn.datasets import load_diabetes\n",
    "# Load the Diabetes dataset\n",
    "data = load_diabetes()\n",
    "X = data.data\n",
    "y = data.target\n",
    "\n",
    "# Set hyperparameters\n",
    "num_epochs = 1000\n",
    "learning_rate = 0.01\n",
    "\n",
    "# Initialize theta\n",
    "w = np.zeros(X.shape[1])\n",
    "\n",
    "w, loss_history = gradient_descent(X, y, w, learning_rate, num_epochs)"
   ]
  }
 ],
 "metadata": {
  "kernelspec": {
   "display_name": "pycaretenv",
   "language": "python",
   "name": "python3"
  },
  "language_info": {
   "codemirror_mode": {
    "name": "ipython",
    "version": 3
   },
   "file_extension": ".py",
   "mimetype": "text/x-python",
   "name": "python",
   "nbconvert_exporter": "python",
   "pygments_lexer": "ipython3",
   "version": "3.9.17"
  }
 },
 "nbformat": 4,
 "nbformat_minor": 2
}
