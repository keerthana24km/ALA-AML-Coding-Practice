{
 "cells": [
  {
   "cell_type": "markdown",
   "metadata": {},
   "source": [
    "# Python Project Quickstart\n",
    "\n",
    "The goal of this notebook is to show step by step go from cells -> functions -> classes -> external py files\n",
    "\n",
    "### 1. Initial checks and imports"
   ]
  },
  {
   "cell_type": "code",
   "execution_count": 2,
   "metadata": {},
   "outputs": [
    {
     "name": "stdout",
     "output_type": "stream",
     "text": [
      "['c:\\\\Users\\\\user\\\\Desktop\\\\MSIS files\\\\ALA files', 'c:\\\\Users\\\\user\\\\anaconda3\\\\envs\\\\pycaretenv\\\\python39.zip', 'c:\\\\Users\\\\user\\\\anaconda3\\\\envs\\\\pycaretenv\\\\DLLs', 'c:\\\\Users\\\\user\\\\anaconda3\\\\envs\\\\pycaretenv\\\\lib', 'c:\\\\Users\\\\user\\\\anaconda3\\\\envs\\\\pycaretenv', '', 'c:\\\\Users\\\\user\\\\anaconda3\\\\envs\\\\pycaretenv\\\\lib\\\\site-packages', 'c:\\\\Users\\\\user\\\\anaconda3\\\\envs\\\\pycaretenv\\\\lib\\\\site-packages\\\\win32', 'c:\\\\Users\\\\user\\\\anaconda3\\\\envs\\\\pycaretenv\\\\lib\\\\site-packages\\\\win32\\\\lib', 'c:\\\\Users\\\\user\\\\anaconda3\\\\envs\\\\pycaretenv\\\\lib\\\\site-packages\\\\Pythonwin']\n"
     ]
    }
   ],
   "source": [
    "# Check python paths\n",
    "\n",
    "import sys\n",
    "print(sys.path)"
   ]
  },
  {
   "cell_type": "code",
   "execution_count": 3,
   "metadata": {},
   "outputs": [],
   "source": [
    "# Add imports here\n",
    "\n",
    "import numpy as np"
   ]
  },
  {
   "cell_type": "code",
   "execution_count": 4,
   "metadata": {},
   "outputs": [
    {
     "data": {
      "text/plain": [
       "'1.23.5'"
      ]
     },
     "execution_count": 4,
     "metadata": {},
     "output_type": "execute_result"
    }
   ],
   "source": [
    "np.__version__ #Print the version to see if it matches with what was specified in requirements.txt"
   ]
  },
  {
   "cell_type": "markdown",
   "metadata": {},
   "source": [
    "### 2. String, Formatted Strings and Hello world"
   ]
  },
  {
   "cell_type": "code",
   "execution_count": 5,
   "metadata": {},
   "outputs": [
    {
     "data": {
      "text/plain": [
       "'Hello John Smith'"
      ]
     },
     "execution_count": 5,
     "metadata": {},
     "output_type": "execute_result"
    }
   ],
   "source": [
    "# Append first and last name\n",
    "first_name = \"John\"\n",
    "last_name = \"Smith\"\n",
    "\n",
    "full_name = \"Hello \" + first_name + \" \" + last_name\n",
    "full_name"
   ]
  },
  {
   "cell_type": "code",
   "execution_count": 6,
   "metadata": {},
   "outputs": [
    {
     "data": {
      "text/plain": [
       "'Hello John Smith'"
      ]
     },
     "execution_count": 6,
     "metadata": {},
     "output_type": "execute_result"
    }
   ],
   "source": [
    "# Append first and last name with f string\n",
    "first_name = \"John\"\n",
    "last_name = \"Smith\"\n",
    "\n",
    "full_name = f\"Hello {first_name} {last_name}\"\n",
    "full_name"
   ]
  },
  {
   "cell_type": "markdown",
   "metadata": {},
   "source": [
    "### 3. Python Functions\n",
    "\n",
    "1. Given the person's language of preference, we would like to greet the person appropriately\n",
    "2. If language is English then we want to say \"Hello Mr. John Smith\"\n",
    "3. If language is Spanish then we want to say \"Hello Senor John Smith\""
   ]
  },
  {
   "cell_type": "code",
   "execution_count": 7,
   "metadata": {},
   "outputs": [],
   "source": [
    "# decide on the salutations based on language.\n",
    "def get_mr(language):\n",
    "    person_address = \"Mr.\"\n",
    "    if language == 'Spanish':\n",
    "        person_address = 'Senor'\n",
    "    elif language == 'French':\n",
    "        person_address = \"Monsieur\"\n",
    "    elif language == \"Hindi\":\n",
    "        person_address = \"Srimaan\"\n",
    "    elif language == \"Urdu\":\n",
    "        person_address = \"Janaab\"\n",
    "\n",
    "    return person_address"
   ]
  },
  {
   "cell_type": "code",
   "execution_count": 8,
   "metadata": {},
   "outputs": [
    {
     "data": {
      "text/plain": [
       "'Janaab Mirza Ghalib'"
      ]
     },
     "execution_count": 8,
     "metadata": {},
     "output_type": "execute_result"
    }
   ],
   "source": [
    "first_name = \"Mirza\"\n",
    "last_name = \"Ghalib\"\n",
    "\n",
    "mr = get_mr('Urdu')\n",
    "full_name = f\"{mr} {first_name} {last_name}\"\n",
    "full_name"
   ]
  },
  {
   "cell_type": "code",
   "execution_count": 9,
   "metadata": {},
   "outputs": [],
   "source": [
    "# A function that calls another function \n",
    "def get_fullname(first_name, last_name, language=\"English\"):\n",
    "    person_address = get_mr(language)\n",
    "    full_name = f\"{person_address} {first_name} {last_name}\"\n",
    "    return full_name"
   ]
  },
  {
   "cell_type": "code",
   "execution_count": 10,
   "metadata": {},
   "outputs": [
    {
     "name": "stdout",
     "output_type": "stream",
     "text": [
      "Srimaan John Smith\n",
      "Mr. John Smith\n"
     ]
    }
   ],
   "source": [
    "print(get_fullname(\"John\", \"Smith\", \"Hindi\"))\n",
    "print(get_fullname(\"John\", \"Smith\")) # If no language is specified, then default value = English"
   ]
  },
  {
   "cell_type": "markdown",
   "metadata": {},
   "source": [
    "##### 3.1 Functions with type hints\n",
    "Note the use of type hints as per PEP 484 https://peps.python.org/pep-0484/"
   ]
  },
  {
   "cell_type": "code",
   "execution_count": 11,
   "metadata": {},
   "outputs": [],
   "source": [
    "# Specifying the arguments data type and return data type\n",
    "# This is not mandatory\n",
    "# Even is you incorrectly specify there are no checks by Python interpreter\n",
    "def get_mr(language: str) -> str:\n",
    "    person_address = \"Mr.\"\n",
    "    if language == 'Spanish':\n",
    "        person_address = 'Senor'\n",
    "    elif language == 'French':\n",
    "        person_address = \"Monsieur\"\n",
    "    elif language == \"Hindi\":\n",
    "        person_address = \"Srimaan\"\n",
    "    elif language == \"Urdu\":\n",
    "        person_address = \"Janaab\"\n",
    "\n",
    "    return person_address"
   ]
  },
  {
   "cell_type": "code",
   "execution_count": 12,
   "metadata": {},
   "outputs": [],
   "source": [
    "def get_fullname(first_name: str, last_name: str, language=\"English\") -> str:\n",
    "    person_address = get_mr(language)\n",
    "    full_name = f\"{person_address} {first_name} {last_name}\"\n",
    "    return full_name"
   ]
  },
  {
   "cell_type": "code",
   "execution_count": 13,
   "metadata": {},
   "outputs": [
    {
     "name": "stdout",
     "output_type": "stream",
     "text": [
      "Srimaan John Smith\n",
      "Mr. John Smith\n"
     ]
    }
   ],
   "source": [
    "print(get_fullname(\"John\", \"Smith\", \"Hindi\"))\n",
    "print(get_fullname(\"John\", \"Smith\")) # If no language is specified, then default value = English"
   ]
  },
  {
   "cell_type": "markdown",
   "metadata": {},
   "source": [
    "### 4. More functions, file open, use of \"with\" statement\n",
    "\n",
    "1. What happens if \"with\" is not used?"
   ]
  },
  {
   "cell_type": "code",
   "execution_count": 14,
   "metadata": {},
   "outputs": [],
   "source": [
    "# A candidate has applied for a job. \n",
    "# Send an appropriate email application based on whether application is accepted or rejected\n",
    "def get_email_content(first_name:str, last_name:str, language:str, rejected:bool =False):\n",
    "    full_name_with_salutation = get_fullname(first_name, last_name, language)\n",
    "    email_salutation = f\"Dear {full_name_with_salutation},\\n\"\n",
    "    \n",
    "    if rejected:\n",
    "        email_body = \"We are sorry to inform your job application has been rejected\"\n",
    "    else:\n",
    "        email_body = \"Congratulations. Your job application has been accepted.\"\n",
    "    \n",
    "    email_contents = email_salutation + email_body\n",
    "    return email_contents"
   ]
  },
  {
   "cell_type": "code",
   "execution_count": 15,
   "metadata": {},
   "outputs": [
    {
     "data": {
      "text/plain": [
       "'Dear Monsieur John Smith,\\nCongratulations. Your job application has been accepted.'"
      ]
     },
     "execution_count": 15,
     "metadata": {},
     "output_type": "execute_result"
    }
   ],
   "source": [
    "get_email_content(\"John\", \"Smith\", \"French\")"
   ]
  },
  {
   "cell_type": "markdown",
   "metadata": {},
   "source": [
    "1. Use an external template file to store the email content. \n",
    "2. This will allow us to localize the contents based on language (a future requirement)"
   ]
  },
  {
   "cell_type": "code",
   "execution_count": 16,
   "metadata": {},
   "outputs": [
    {
     "data": {
      "text/plain": [
       "'Hello John Smith. How are you?'"
      ]
     },
     "execution_count": 16,
     "metadata": {},
     "output_type": "execute_result"
    }
   ],
   "source": [
    "# Let us see how a template works\n",
    "\n",
    "from string import Template\n",
    "\n",
    "msg = \"Hello $name. How are you?\" \n",
    "t = Template(msg)\n",
    "t.substitute(name = \"John Smith\")"
   ]
  },
  {
   "cell_type": "code",
   "execution_count": 19,
   "metadata": {},
   "outputs": [
    {
     "name": "stdout",
     "output_type": "stream",
     "text": [
      "\n"
     ]
    }
   ],
   "source": [
    "# What if we did not use the \"with\"\n",
    "with open(\"accept_email_template.txt\", \"r+\") as accept_file:\n",
    "    file_contents = accept_file.read()\n",
    "    print(file_contents)\n",
    "\n",
    "#Try reading from the accept_file here\n",
    "#accept_file.read()"
   ]
  },
  {
   "cell_type": "code",
   "execution_count": 21,
   "metadata": {},
   "outputs": [
    {
     "data": {
      "text/plain": [
       "(<string.Template at 0x203edc6df40>, <string.Template at 0x203ee9174c0>)"
      ]
     },
     "execution_count": 21,
     "metadata": {},
     "output_type": "execute_result"
    }
   ],
   "source": [
    "# Read contents of both accept and reject template\n",
    "from string import Template\n",
    "with open(\"accept_email_template.txt\", \"r+\") as accept_file:\n",
    "    file_contents = accept_file.read()\n",
    "    accept_template = Template(file_contents)\n",
    "\n",
    "with open(\"reject_email_template.txt\", \"r+\") as reject_file:\n",
    "    file_contents = reject_file.read()\n",
    "    reject_template = Template(file_contents)\n",
    "\n",
    "accept_template, reject_template"
   ]
  },
  {
   "cell_type": "code",
   "execution_count": 22,
   "metadata": {},
   "outputs": [],
   "source": [
    "# Rewritten email body function that accepts the two templates and creates email content\n",
    "def get_email_content(accept_template, reject_template, first_name, last_name, language, rejected=False):\n",
    "    full_name = get_fullname(first_name, last_name, language)\n",
    "    if rejected:\n",
    "        email_contents = reject_template.substitute(name = full_name)\n",
    "    else:\n",
    "        email_contents = accept_template.substitute(name = full_name)\n",
    "    \n",
    "    return email_contents"
   ]
  },
  {
   "cell_type": "markdown",
   "metadata": {},
   "source": [
    "1. The above code looked for the two template files in the current working directory.\n",
    "2. Often the file can be located elsewhere and cause errors\n",
    "3. How do we find current directory during debugging?"
   ]
  },
  {
   "cell_type": "code",
   "execution_count": null,
   "metadata": {},
   "outputs": [],
   "source": [
    "#Does not work in Windows and VS code. Works on Linux and Jupyter Notebook or Colab\n",
    "#!pwd"
   ]
  },
  {
   "cell_type": "code",
   "execution_count": 23,
   "metadata": {},
   "outputs": [
    {
     "data": {
      "text/plain": [
       "'c:\\\\Users\\\\user\\\\Desktop\\\\MSIS files\\\\ALA files'"
      ]
     },
     "execution_count": 23,
     "metadata": {},
     "output_type": "execute_result"
    }
   ],
   "source": [
    "import os\n",
    "os.getcwd()"
   ]
  },
  {
   "cell_type": "code",
   "execution_count": 24,
   "metadata": {},
   "outputs": [
    {
     "data": {
      "text/plain": [
       "''"
      ]
     },
     "execution_count": 24,
     "metadata": {},
     "output_type": "execute_result"
    }
   ],
   "source": [
    "get_email_content(accept_template, reject_template, \"John\", \"Smith\", \"French\", True)"
   ]
  },
  {
   "cell_type": "markdown",
   "metadata": {},
   "source": [
    "### 5. Creating a Candidate class"
   ]
  },
  {
   "cell_type": "code",
   "execution_count": 29,
   "metadata": {},
   "outputs": [],
   "source": [
    "class Candidate:\n",
    "    \"\"\"\n",
    "    Constructor\n",
    "    \"\"\"\n",
    "    def _init_(self): # this does not run. why?\n",
    "        print(\"Entering constructor of Candidate class\")"
   ]
  },
  {
   "cell_type": "code",
   "execution_count": 30,
   "metadata": {},
   "outputs": [],
   "source": [
    "candidate = Candidate()"
   ]
  },
  {
   "cell_type": "code",
   "execution_count": 31,
   "metadata": {},
   "outputs": [],
   "source": [
    "class Candidate:\n",
    "    \"\"\"\n",
    "    Constructor\n",
    "    \"\"\"\n",
    "    def __init__(self): # this will run\n",
    "        print(\"Entering constructor of Candidate class\")"
   ]
  },
  {
   "cell_type": "code",
   "execution_count": 32,
   "metadata": {},
   "outputs": [
    {
     "name": "stdout",
     "output_type": "stream",
     "text": [
      "Entering constructor of Candidate class\n"
     ]
    }
   ],
   "source": [
    "candidate = Candidate()"
   ]
  },
  {
   "cell_type": "code",
   "execution_count": 33,
   "metadata": {},
   "outputs": [],
   "source": [
    "# Create a class, access its attributes\n",
    "class Candidate:\n",
    "    \"\"\"\n",
    "    Constructor\n",
    "    \"\"\"\n",
    "    def __init__(self, first_name, last_name): # this will run, but will not work as expected\n",
    "        print(\"Entering constructor of Candidate class\")\n",
    "        first_name = first_name\n",
    "        last_name = last_name"
   ]
  },
  {
   "cell_type": "code",
   "execution_count": 35,
   "metadata": {},
   "outputs": [
    {
     "name": "stdout",
     "output_type": "stream",
     "text": [
      "Entering constructor of Candidate class\n"
     ]
    },
    {
     "ename": "AttributeError",
     "evalue": "'Candidate' object has no attribute 'last_name'",
     "output_type": "error",
     "traceback": [
      "\u001b[1;31m---------------------------------------------------------------------------\u001b[0m",
      "\u001b[1;31mAttributeError\u001b[0m                            Traceback (most recent call last)",
      "Cell \u001b[1;32mIn[35], line 2\u001b[0m\n\u001b[0;32m      1\u001b[0m candidate \u001b[39m=\u001b[39m Candidate(\u001b[39m\"\u001b[39m\u001b[39mJohn\u001b[39m\u001b[39m\"\u001b[39m,\u001b[39m\"\u001b[39m\u001b[39mSmith\u001b[39m\u001b[39m\"\u001b[39m) \u001b[39m# this line fails why?\u001b[39;00m\n\u001b[1;32m----> 2\u001b[0m candidate\u001b[39m.\u001b[39;49mlast_name\n",
      "\u001b[1;31mAttributeError\u001b[0m: 'Candidate' object has no attribute 'last_name'"
     ]
    }
   ],
   "source": [
    "candidate = Candidate() # this line fails why?\n",
    "candidate.last_name "
   ]
  },
  {
   "cell_type": "code",
   "execution_count": null,
   "metadata": {},
   "outputs": [],
   "source": [
    "# Notice we do not pass \"self\". self is passed automatically by python.\n",
    "# We only pass the arguments after the self, as if they are function arguments\n",
    "candidate = Candidate(\"John\", \"Smith\") \n",
    "\n",
    "candidate.last_name #why does this line give error?"
   ]
  },
  {
   "cell_type": "code",
   "execution_count": 49,
   "metadata": {},
   "outputs": [],
   "source": [
    "# TODO\n",
    "# Copy the Candidate class here and make changes to fix the above error\n",
    "# Hint: 'Candidate' object has no attribute 'last_name' implies\n",
    "# the last_name is not associated with the instantiated object \"self\"\n",
    "\n",
    "class Candidate:\n",
    "    \"\"\"\n",
    "    Constructor\n",
    "    \"\"\"\n",
    "    def __init__(self, first_name, last_name): # this will run, but will not work as expected\n",
    "        print(\"Entering constructor of Candidate class\")\n",
    "        self.first_name = first_name\n",
    "        self.last_name = last_name"
   ]
  },
  {
   "cell_type": "code",
   "execution_count": 43,
   "metadata": {},
   "outputs": [
    {
     "name": "stdout",
     "output_type": "stream",
     "text": [
      "Entering constructor of Candidate class\n"
     ]
    },
    {
     "data": {
      "text/plain": [
       "'Smith'"
      ]
     },
     "execution_count": 43,
     "metadata": {},
     "output_type": "execute_result"
    }
   ],
   "source": [
    "# The code below should work correctly \n",
    "# after fixing the errors in Candidate Class and putting in above cell\n",
    "candidate = Candidate(\"John\", \"Smith\") \n",
    "\n",
    "candidate.last_name #This should print the value of the attribute \"last_name\" viz. Smith"
   ]
  },
  {
   "cell_type": "code",
   "execution_count": 46,
   "metadata": {},
   "outputs": [],
   "source": [
    "# TODO: Adding bells and whistles\n",
    "class Candidate:\n",
    "    \"\"\"\n",
    "    Constructor\n",
    "    \"\"\"\n",
    "    # TODO Language argument is added new. Make its default value English \n",
    "    # TODO PEP 484 enable the method signature with type hints\n",
    "    def __init__(self, first_name, last_name, language): #l\n",
    "        print(\"Entering constructor of Candidate class\")\n",
    "        # TODO Set all 3 attributes on the object instance\n",
    "        self.first_name = first_name\n",
    "        self.last_name = last_name\n",
    "        self.language = language"
   ]
  },
  {
   "cell_type": "code",
   "execution_count": 47,
   "metadata": {},
   "outputs": [
    {
     "name": "stdout",
     "output_type": "stream",
     "text": [
      "Entering constructor of Candidate class\n"
     ]
    },
    {
     "data": {
      "text/plain": [
       "'English'"
      ]
     },
     "execution_count": 47,
     "metadata": {},
     "output_type": "execute_result"
    }
   ],
   "source": [
    "# TODO\n",
    "# test the Candidate code\n",
    "candidate = Candidate(\"Keerthana\",\"Manjunath\",\"English\")\n",
    "candidate.language"
   ]
  },
  {
   "cell_type": "markdown",
   "metadata": {},
   "source": [
    "### 6. Enhancing the Candidate class\n",
    "\n",
    "1. Replacing the memory address with an actual \"stringified\" object\n",
    "2. Replacing the jupyter notebook object display with an actual \"stringified\" object"
   ]
  },
  {
   "cell_type": "code",
   "execution_count": 50,
   "metadata": {},
   "outputs": [
    {
     "name": "stdout",
     "output_type": "stream",
     "text": [
      "Entering constructor of Candidate class\n",
      "<__main__.Candidate object at 0x00000203EDDDCE20>\n"
     ]
    },
    {
     "data": {
      "text/plain": [
       "<__main__.Candidate at 0x203edddce20>"
      ]
     },
     "execution_count": 50,
     "metadata": {},
     "output_type": "execute_result"
    }
   ],
   "source": [
    "candidate = Candidate(\"John\", \"Smith\")\n",
    "print(candidate) # displays memory address like this: <__main__.Candidate object at 0x000002064D2946D0>\n",
    "candidate # displays memory address like this: <__main__.Candidate object at 0x000002064D2946D0>"
   ]
  },
  {
   "cell_type": "code",
   "execution_count": 51,
   "metadata": {},
   "outputs": [],
   "source": [
    "# Note the addition of __str__() method. \n",
    "# All methods beginning and ending with double underscores are special in python\n",
    "# Some of those names are also special\n",
    "# Other examples include __init__, __call__, __new__ etc.\n",
    "class Candidate:\n",
    "    \"\"\"\n",
    "    Constructor\n",
    "    \"\"\"\n",
    "    def __init__(self, first_name:str, last_name:str, language:str = \"English\"):\n",
    "        print(\"Entering constructor of Candidate class\")\n",
    "        self.first_name = first_name\n",
    "        self.last_name = last_name\n",
    "        self.language = language\n",
    "\n",
    "    \"\"\"\n",
    "    Cretes the string representation when print() is called\n",
    "    \"\"\"\n",
    "    def __str__(self) -> str:\n",
    "        candidate_str = f\"FirstName={self.first_name}, LastName={self.last_name}, Language={self.language}\"\n",
    "        return candidate_str"
   ]
  },
  {
   "cell_type": "code",
   "execution_count": 52,
   "metadata": {},
   "outputs": [
    {
     "name": "stdout",
     "output_type": "stream",
     "text": [
      "Entering constructor of Candidate class\n",
      "FirstName=John, LastName=Smith, Language=English\n"
     ]
    },
    {
     "data": {
      "text/plain": [
       "<__main__.Candidate at 0x203ee978be0>"
      ]
     },
     "execution_count": 52,
     "metadata": {},
     "output_type": "execute_result"
    }
   ],
   "source": [
    "candidate = Candidate(\"John\", \"Smith\")\n",
    "print(candidate) # this will display a readable string representation of candidate object\n",
    "candidate # displays memory address like this: <__main__.Candidate object at 0x000002064D2946D0>"
   ]
  },
  {
   "cell_type": "code",
   "execution_count": 53,
   "metadata": {},
   "outputs": [],
   "source": [
    "# Note the addition of _repr_pretty_ method in addition to __str__() method. \n",
    "# Comment of its utility is inline. Please read it\n",
    "# Also note that it does not have double underscores in the beginning and end\n",
    "# This is because it is consumed by IPython and not Python interpreter\n",
    "class Candidate:\n",
    "    \"\"\"\n",
    "    Constructor\n",
    "    \"\"\"\n",
    "    def __init__(self, first_name:str, last_name:str, language:str = \"English\"):\n",
    "        # TODO: Remove this print statement, now that we are sure this function executes\n",
    "        print(\"Entering constructor of Candidate class\")\n",
    "        self.first_name = first_name\n",
    "        self.last_name = last_name\n",
    "        self.language = language\n",
    "\n",
    "    \"\"\"\n",
    "    Creates the string representation when print() is called\n",
    "    \"\"\"\n",
    "    def __str__(self) -> str:\n",
    "        candidate_str = f\"FirstName={self.first_name}, LastName={self.last_name}, Language={self.language}\"\n",
    "        return candidate_str\n",
    "\n",
    "    \"\"\"\n",
    "    By default, when IPython displays an object, it seems to use __repr__.\n",
    "    __repr__ is supposed to produce a unique string which could be used to \n",
    "    reconstruct an object, given the right environment. \n",
    "    \n",
    "    This is distinct from __str__, which supposed to produce human-readable output    \n",
    "    \"\"\"\n",
    "    def _repr_pretty_(self, p, cycle) -> None:\n",
    "       p.text(str(self) if not cycle else '...')"
   ]
  },
  {
   "cell_type": "code",
   "execution_count": 54,
   "metadata": {},
   "outputs": [
    {
     "name": "stdout",
     "output_type": "stream",
     "text": [
      "Entering constructor of Candidate class\n"
     ]
    }
   ],
   "source": [
    "candidate = Candidate(\"John\", \"Smith\")\n",
    "\n",
    "# TODO: Add test code here for print and ipython object display"
   ]
  },
  {
   "cell_type": "code",
   "execution_count": 55,
   "metadata": {},
   "outputs": [
    {
     "data": {
      "text/plain": [
       "2215898893760"
      ]
     },
     "execution_count": 55,
     "metadata": {},
     "output_type": "execute_result"
    }
   ],
   "source": [
    "# How to find the memory address of object after overriding __str__ and _repr_pretty_\n",
    "id(candidate)"
   ]
  },
  {
   "cell_type": "markdown",
   "metadata": {},
   "source": [
    "### 7. Object equality, object identity and hashability\n",
    "\n",
    "1. Two strings with same value can be compared with == and \"is\"\n",
    "2. They can both return True, or the \"is\" return False\n",
    "3. Similar provision is needed for Candidate object. This section covers this"
   ]
  },
  {
   "cell_type": "code",
   "execution_count": 56,
   "metadata": {},
   "outputs": [
    {
     "name": "stdout",
     "output_type": "stream",
     "text": [
      "str1 == str2: False\n",
      "str1 == str3: True\n",
      "str1.__eq__(str2): False\n",
      "str1.__eq__(str3): True\n"
     ]
    }
   ],
   "source": [
    "str1 = \"John\"\n",
    "str2 = \"Smith\"\n",
    "str3 = \"John\"\n",
    "print(f\"str1 == str2: {str1 == str2}\")\n",
    "print(f\"str1 == str3: {str1 == str3}\")\n",
    "print(f\"str1.__eq__(str2): {str1.__eq__(str2)}\")\n",
    "print(f\"str1.__eq__(str3): {str1.__eq__(str3)}\")"
   ]
  },
  {
   "cell_type": "code",
   "execution_count": 58,
   "metadata": {},
   "outputs": [
    {
     "name": "stdout",
     "output_type": "stream",
     "text": [
      "str1 is str2: False\n"
     ]
    }
   ],
   "source": [
    "print(f\"str1 is str2: {str1 is str2}\")"
   ]
  },
  {
   "cell_type": "code",
   "execution_count": 59,
   "metadata": {},
   "outputs": [
    {
     "name": "stdout",
     "output_type": "stream",
     "text": [
      "Entering constructor of Candidate class\n",
      "Entering constructor of Candidate class\n"
     ]
    },
    {
     "data": {
      "text/plain": [
       "False"
      ]
     },
     "execution_count": 59,
     "metadata": {},
     "output_type": "execute_result"
    }
   ],
   "source": [
    "candidate1 = Candidate(\"John\", \"Smith\")\n",
    "candidate2 = Candidate(\"John\", \"Smith\")\n",
    "candidate1 == candidate2 # Why does this evaluate to False"
   ]
  },
  {
   "cell_type": "code",
   "execution_count": 60,
   "metadata": {},
   "outputs": [
    {
     "data": {
      "text/plain": [
       "False"
      ]
     },
     "execution_count": 60,
     "metadata": {},
     "output_type": "execute_result"
    }
   ],
   "source": [
    "candidate1 is candidate2 # Why does this evaluate to False"
   ]
  },
  {
   "cell_type": "code",
   "execution_count": 61,
   "metadata": {},
   "outputs": [
    {
     "name": "stdout",
     "output_type": "stream",
     "text": [
      "Entering constructor of Candidate class\n",
      "Entering constructor of Candidate class\n"
     ]
    },
    {
     "data": {
      "text/plain": [
       "{FirstName=John, LastName=Smith, Language=English: 10,\n",
       " FirstName=John, LastName=Smith, Language=English: 20}"
      ]
     },
     "execution_count": 61,
     "metadata": {},
     "output_type": "execute_result"
    }
   ],
   "source": [
    "candidate1 = Candidate(\"John\", \"Smith\")\n",
    "candidate2 = Candidate(\"John\", \"Smith\")\n",
    "\n",
    "mydict = { }\n",
    "mydict[candidate1] = 10 \n",
    "mydict[candidate2] = 20 \n",
    "\n",
    "mydict # how many values will dictionary have?"
   ]
  },
  {
   "cell_type": "code",
   "execution_count": 62,
   "metadata": {},
   "outputs": [],
   "source": [
    "from string import Template\n",
    "\n",
    "class Candidate:\n",
    "    \"\"\"\n",
    "    Constructor\n",
    "    Note the use of type hints as per PEP 484 https://peps.python.org/pep-0484/\n",
    "    \"\"\"\n",
    "    def __init__(self, first_name: str, last_name:str, language:str =\"English\") -> None:\n",
    "        #print(\"Entering the init\")\n",
    "        self.first_name = first_name\n",
    "        self.last_name = last_name\n",
    "        self.language = language\n",
    "\n",
    "    \"\"\"\n",
    "    Creates string representation when print() is called\n",
    "    \"\"\"\n",
    "    def __str__(self) -> str:\n",
    "        candidate_str = f\"FirstName={self.first_name}, LastName={self.last_name}, Language={self.language}\"\n",
    "        return candidate_str\n",
    "    \n",
    "    \"\"\"\n",
    "    By default, when IPython displays an object, it seems to use __repr__.\n",
    "    __repr__ is supposed to produce a unique string which could be used to \n",
    "    reconstruct an object, given the right environment. \n",
    "    \n",
    "    This is distinct from __str__, which supposed to produce human-readable output    \n",
    "    \"\"\"\n",
    "    def _repr_pretty_(self, p, cycle) -> None:\n",
    "       p.text(str(self) if not cycle else '...')\n",
    "\n",
    "    def __eq__(self, other):\n",
    "      if isinstance(other, Candidate):\n",
    "         return self.first_name == other.first_name and self.last_name == other.last_name\n",
    "      return False"
   ]
  },
  {
   "cell_type": "code",
   "execution_count": 63,
   "metadata": {},
   "outputs": [
    {
     "name": "stdout",
     "output_type": "stream",
     "text": [
      "True\n",
      "False\n"
     ]
    }
   ],
   "source": [
    "candidate1 = Candidate(\"John\", \"Smith\")\n",
    "candidate2 = Candidate(\"John\", \"Smith\")\n",
    "print(candidate1 == candidate2) # Why does this evaluate to True now?\n",
    "print(candidate1 is candidate2) # Why does this evaluate to False even now?"
   ]
  },
  {
   "cell_type": "code",
   "execution_count": 64,
   "metadata": {},
   "outputs": [
    {
     "ename": "TypeError",
     "evalue": "unhashable type: 'Candidate'",
     "output_type": "error",
     "traceback": [
      "\u001b[1;31m---------------------------------------------------------------------------\u001b[0m",
      "\u001b[1;31mTypeError\u001b[0m                                 Traceback (most recent call last)",
      "Cell \u001b[1;32mIn[64], line 4\u001b[0m\n\u001b[0;32m      1\u001b[0m candidate1 \u001b[39m=\u001b[39m Candidate(\u001b[39m\"\u001b[39m\u001b[39mJohn\u001b[39m\u001b[39m\"\u001b[39m, \u001b[39m\"\u001b[39m\u001b[39mSmith\u001b[39m\u001b[39m\"\u001b[39m)\n\u001b[0;32m      3\u001b[0m mydict \u001b[39m=\u001b[39m { }\n\u001b[1;32m----> 4\u001b[0m mydict[candidate1] \u001b[39m=\u001b[39m \u001b[39m10\u001b[39m \u001b[39m# this line gives error - unhashable type: 'Candidate' Why? \u001b[39;00m\n\u001b[0;32m      5\u001b[0m mydict\n",
      "\u001b[1;31mTypeError\u001b[0m: unhashable type: 'Candidate'"
     ]
    }
   ],
   "source": [
    "candidate1 = Candidate(\"John\", \"Smith\")\n",
    "\n",
    "mydict = { }\n",
    "mydict[candidate1] = 10 # this line gives error - unhashable type: 'Candidate' Why? \n",
    "mydict"
   ]
  },
  {
   "cell_type": "code",
   "execution_count": 65,
   "metadata": {},
   "outputs": [],
   "source": [
    "from string import Template\n",
    "\n",
    "class Candidate:\n",
    "    \"\"\"Constructor\"\"\"\n",
    "    def __init__(self, first_name: str, last_name:str, language:str =\"English\") -> None:\n",
    "        self.first_name = first_name\n",
    "        self.last_name = last_name\n",
    "        self.language = language\n",
    "\n",
    "    \"\"\"\n",
    "    Creates string representation when print() is called\n",
    "    \"\"\"\n",
    "    def __str__(self) -> str:\n",
    "        candidate_str = f\"FirstName={self.first_name}, LastName={self.last_name}, Language={self.language}\"\n",
    "        return candidate_str\n",
    "    \n",
    "    \"\"\"\n",
    "    By default, when IPython displays an object, it seems to use __repr__.\n",
    "    __repr__ is supposed to produce a unique string which could be used to \n",
    "    reconstruct an object, given the right environment. \n",
    "    \n",
    "    This is distinct from __str__, which supposed to produce human-readable output    \n",
    "    \"\"\"\n",
    "    def _repr_pretty_(self, p, cycle) -> None:\n",
    "       p.text(str(self) if not cycle else '...')\n",
    "\n",
    "    def __eq__(self, other):\n",
    "      if isinstance(other, Candidate):\n",
    "         return self.first_name == other.first_name and self.last_name == other.last_name\n",
    "      return False\n",
    "\n",
    "    # Both __eq__ and __hash__ methods have to be overridden\n",
    "    # ideally the hash function should only depend on the attributes used for equality check\n",
    "    def __hash__(self):\n",
    "        return hash((self.first_name, self.last_name))"
   ]
  },
  {
   "cell_type": "code",
   "execution_count": 66,
   "metadata": {},
   "outputs": [
    {
     "data": {
      "text/plain": [
       "{FirstName=John, LastName=Smith, Language=English: 20}"
      ]
     },
     "execution_count": 66,
     "metadata": {},
     "output_type": "execute_result"
    }
   ],
   "source": [
    "candidate1 = Candidate(\"John\", \"Smith\")\n",
    "candidate2 = Candidate(\"John\", \"Smith\")\n",
    "\n",
    "mydict = { }\n",
    "mydict[candidate1] = 10 \n",
    "mydict[candidate2] = 20 \n",
    "\n",
    "mydict # how many values will dictionary have? (Compare with the case when __eq__ and __hash__ didnt exist)"
   ]
  },
  {
   "cell_type": "markdown",
   "metadata": {},
   "source": [
    "### 8. Replacing the string based values with Enum\n",
    "\n",
    "1. Saves from typos\n",
    "2. Ability to consolidate the if-elses"
   ]
  },
  {
   "cell_type": "code",
   "execution_count": 67,
   "metadata": {},
   "outputs": [],
   "source": [
    "# Remember this good old function?\n",
    "# You could easily mis-spell the language and mess up the if elses\n",
    "def get_mr(language: str) -> str:\n",
    "    person_address = \"Mr.\"\n",
    "    if language == 'Spanish':\n",
    "        person_address = 'Senor'\n",
    "    elif language == 'French':\n",
    "        person_address = \"Monsieur\"\n",
    "    elif language == \"Hindi\":\n",
    "        person_address = \"Srimaan\"\n",
    "    elif language == \"Urdu\":\n",
    "        person_address = \"Janaab\"\n",
    "\n",
    "    return person_address"
   ]
  },
  {
   "cell_type": "code",
   "execution_count": 68,
   "metadata": {},
   "outputs": [],
   "source": [
    "from enum import Enum\n",
    "\n",
    "# subclassing Enum. The name in bracket is parent class\n",
    "class Language(Enum):\n",
    "    # all these are class variables\n",
    "    English = 1 \n",
    "    Spanish = 2\n",
    "    French = 3\n",
    "    Hindi = 4\n",
    "    Urdu = 5"
   ]
  },
  {
   "cell_type": "code",
   "execution_count": 69,
   "metadata": {},
   "outputs": [],
   "source": [
    "# Now we can rewrite the get_mr() function slightly better way\n",
    "# Remember this good old function?\n",
    "# You could easily mis-spell the language and mess up the if elses\n",
    "def get_mr(language: Language) -> str:\n",
    "    person_address = \"Mr.\"\n",
    "    if language == Language.Spanish:\n",
    "        person_address = 'Senor'\n",
    "    elif language == Language.French:    #TODO: FILL THE QUESTION MARKS\n",
    "        person_address = \"Monsieur\"\n",
    "    elif language == Language.Hindi:\n",
    "        person_address = \"Srimaan\"\n",
    "    elif language == Language.Urdu:\n",
    "        person_address = \"Janaab\"\n",
    "\n",
    "    return person_address"
   ]
  },
  {
   "cell_type": "code",
   "execution_count": 70,
   "metadata": {},
   "outputs": [
    {
     "data": {
      "text/plain": [
       "'Srimaan'"
      ]
     },
     "execution_count": 70,
     "metadata": {},
     "output_type": "execute_result"
    }
   ],
   "source": [
    "get_mr(Language.Hindi)"
   ]
  },
  {
   "cell_type": "code",
   "execution_count": 71,
   "metadata": {},
   "outputs": [
    {
     "data": {
      "text/plain": [
       "[<Language.English: 1>,\n",
       " <Language.Spanish: 2>,\n",
       " <Language.French: 3>,\n",
       " <Language.Hindi: 4>,\n",
       " <Language.Urdu: 5>]"
      ]
     },
     "execution_count": 71,
     "metadata": {},
     "output_type": "execute_result"
    }
   ],
   "source": [
    "#List out all Languages \n",
    "list(Language)"
   ]
  },
  {
   "cell_type": "code",
   "execution_count": 72,
   "metadata": {},
   "outputs": [],
   "source": [
    "# Lets go one step further and move the function itself into Language Enum as staticmethod\n",
    "from enum import Enum\n",
    "\n",
    "class Language(Enum):\n",
    "    English = 1\n",
    "    Spanish = 2\n",
    "    French = 3\n",
    "    Hindi = 4\n",
    "    Urdu = 5\n",
    "\n",
    "    # Notice that static method does not have a self argument.\n",
    "    # Hence it is not instance specific and cannot use instance level attributes\n",
    "    # static method is for utility functions that are within the class namespace \n",
    "    # but no dependency on the class\n",
    "    @staticmethod\n",
    "    def get_mr(lang):\n",
    "        person_address = \"Mr.\"\n",
    "        if lang == Language.Spanish:\n",
    "            person_address = 'Senor'\n",
    "        elif lang == Language.French:\n",
    "            person_address = \"Monsieur\"\n",
    "        elif lang == Language.Hindi:\n",
    "            person_address = \"Sriman\"\n",
    "        elif lang == Language.Urdu:\n",
    "            person_address = \"Janab\""
   ]
  },
  {
   "cell_type": "code",
   "execution_count": 74,
   "metadata": {},
   "outputs": [],
   "source": [
    "# Lets test this \n",
    "Language.get_mr(Language(4))  #Doesn't this look weird to call two times on Language enum. This needs fix"
   ]
  },
  {
   "cell_type": "code",
   "execution_count": 75,
   "metadata": {},
   "outputs": [],
   "source": [
    "# Notice how we have got rid of the get_mr method and its if-elses\n",
    "# This is done in 2 stages\n",
    "# 1. Move the salutations as a second attribute on the Enum\n",
    "# 2. Since the deault Enum behavior supports only one attribute, \n",
    "#    we override the __new__ function of python for this enum & sneak in the salutation as second argument\n",
    "# 3. We cannot do this via __init__ method\n",
    "# This is a advanced level functionality\n",
    "from enum import Enum\n",
    "\n",
    "class Language(Enum):\n",
    "    English = (1, \"Mr.\")\n",
    "    Spanish = (2, 'Senor')\n",
    "    French = (3, 'Monsieur')\n",
    "    Hindi = (4, 'Srimaan')\n",
    "    Urdu = (5, \"Janaab\")\n",
    "\n",
    "    def __new__(cls, code, salutation):\n",
    "        obj = object.__new__(cls) \n",
    "        obj._value_ = code  # set the value, and the extra attribute\n",
    "        obj.salutation = salutation\n",
    "        return obj"
   ]
  },
  {
   "cell_type": "code",
   "execution_count": 76,
   "metadata": {},
   "outputs": [
    {
     "data": {
      "text/plain": [
       "'Srimaan'"
      ]
     },
     "execution_count": 76,
     "metadata": {},
     "output_type": "execute_result"
    }
   ],
   "source": [
    "#The above change makes accessing salutations natural and easy\n",
    "Language.Hindi.salutation #compare with the older mechanism - Language.get_mr(Language.Hindi)"
   ]
  },
  {
   "cell_type": "code",
   "execution_count": 77,
   "metadata": {},
   "outputs": [],
   "source": [
    "# Time to redefine the function we created at the beginning of this notebook\n",
    "# Notice the last argument is changed from string to Language enum\n",
    "# def get_fullname(first_name: str, last_name: str, language=\"English\") -> str:\n",
    "def get_fullname(first_name: str, last_name: str, language: Language = Language.English) -> str:\n",
    "    person_address = get_mr(language)\n",
    "    full_name = f\"{person_address} {first_name} {last_name}\"\n",
    "    return full_name"
   ]
  },
  {
   "cell_type": "code",
   "execution_count": 78,
   "metadata": {},
   "outputs": [
    {
     "data": {
      "text/plain": [
       "'Janaab John Smith'"
      ]
     },
     "execution_count": 78,
     "metadata": {},
     "output_type": "execute_result"
    }
   ],
   "source": [
    "#Test the get_fullname()\n",
    "get_fullname(\"John\", \"Smith\", Language.Urdu)"
   ]
  },
  {
   "cell_type": "code",
   "execution_count": 79,
   "metadata": {},
   "outputs": [],
   "source": [
    "# Time to redefine the email content function using the language enum\n",
    "# Question: What has changed?\n",
    "# def get_email_content(accept_template, reject_template, first_name, last_name, language, rejected=False):\n",
    "def get_email_content(accept_template: Template, reject_template:Template, \n",
    "                        first_name:str, last_name:str, language:Language, rejected=False):\n",
    "    full_name = get_fullname(first_name, last_name, language)\n",
    "    if rejected:\n",
    "        email_contents = reject_template.substitute(name = full_name)\n",
    "    else:\n",
    "        email_contents = accept_template.substitute(name = full_name)\n",
    "    \n",
    "    return email_contents"
   ]
  },
  {
   "cell_type": "code",
   "execution_count": 80,
   "metadata": {},
   "outputs": [
    {
     "data": {
      "text/plain": [
       "''"
      ]
     },
     "execution_count": 80,
     "metadata": {},
     "output_type": "execute_result"
    }
   ],
   "source": [
    "# Working function with the Language Enum\n",
    "get_email_content(accept_template, reject_template, \"John\", \"Smith\", Language.Urdu, rejected=False)"
   ]
  },
  {
   "cell_type": "markdown",
   "metadata": {},
   "source": [
    "### 9. Adding functionality to the Candidate class"
   ]
  },
  {
   "cell_type": "code",
   "execution_count": 81,
   "metadata": {},
   "outputs": [],
   "source": [
    "# After adding all \"technical\" functionality to this class, we now have added a new public method\n",
    "# get_fullname()\n",
    "# this instance level method takes the self.\n",
    "from string import Template\n",
    "\n",
    "class Candidate:\n",
    "    \"\"\" Constructor \"\"\"\n",
    "    def __init__(self, first_name: str, last_name:str, language:str =\"English\") -> None:\n",
    "        #print(\"Entering the init\")\n",
    "        self.first_name = first_name\n",
    "        self.last_name = last_name\n",
    "        self.language = language\n",
    "\n",
    "    # New public method\n",
    "    def get_fullname(self):\n",
    "        person_address = self.language.salutation\n",
    "        full_name = f\"{person_address} {self.first_name} {self.last_name}\"\n",
    "        return full_name\n",
    "\n",
    "    \"\"\"\n",
    "    Cretes the string representation when print() is called\n",
    "    \"\"\"\n",
    "    def __str__(self) -> str:\n",
    "        candidate_str = f\"FirstName={self.first_name}, LastName={self.last_name}, Language={self.language}\"\n",
    "        return candidate_str\n",
    "    \n",
    "    \"\"\"\n",
    "    By default, when IPython displays an object, it seems to use __repr__.\n",
    "    __repr__ is supposed to produce a unique string which could be used to \n",
    "    reconstruct an object, given the right environment. \n",
    "    \n",
    "    This is distinct from __str__, which supposed to produce human-readable output    \n",
    "    \"\"\"\n",
    "    def _repr_pretty_(self, p, cycle) -> None:\n",
    "       p.text(str(self) if not cycle else '...')\n",
    "\n",
    "    def __eq__(self, other):\n",
    "      if isinstance(other, Candidate):\n",
    "         return self.first_name == other.first_name and self.last_name == other.last_name\n",
    "      return False\n",
    "\n",
    "    # Both __eq__ and __hash__ methods have to be overridden\n",
    "    # ideally the hash function should only depend on the attributes used for equality check\n",
    "    def __hash__(self):\n",
    "        return hash((self.first_name, self.last_name))"
   ]
  },
  {
   "cell_type": "code",
   "execution_count": 82,
   "metadata": {},
   "outputs": [
    {
     "ename": "AttributeError",
     "evalue": "'str' object has no attribute 'salutation'",
     "output_type": "error",
     "traceback": [
      "\u001b[1;31m---------------------------------------------------------------------------\u001b[0m",
      "\u001b[1;31mAttributeError\u001b[0m                            Traceback (most recent call last)",
      "Cell \u001b[1;32mIn[82], line 2\u001b[0m\n\u001b[0;32m      1\u001b[0m candidate1 \u001b[39m=\u001b[39m Candidate(\u001b[39m\"\u001b[39m\u001b[39mJohn\u001b[39m\u001b[39m\"\u001b[39m, \u001b[39m\"\u001b[39m\u001b[39mSmith\u001b[39m\u001b[39m\"\u001b[39m)\n\u001b[1;32m----> 2\u001b[0m candidate1\u001b[39m.\u001b[39;49mget_fullname()\n",
      "Cell \u001b[1;32mIn[81], line 16\u001b[0m, in \u001b[0;36mCandidate.get_fullname\u001b[1;34m(self)\u001b[0m\n\u001b[0;32m     15\u001b[0m \u001b[39mdef\u001b[39;00m \u001b[39mget_fullname\u001b[39m(\u001b[39mself\u001b[39m):\n\u001b[1;32m---> 16\u001b[0m     person_address \u001b[39m=\u001b[39m \u001b[39mself\u001b[39;49m\u001b[39m.\u001b[39;49mlanguage\u001b[39m.\u001b[39;49msalutation\n\u001b[0;32m     17\u001b[0m     full_name \u001b[39m=\u001b[39m \u001b[39mf\u001b[39m\u001b[39m\"\u001b[39m\u001b[39m{\u001b[39;00mperson_address\u001b[39m}\u001b[39;00m\u001b[39m \u001b[39m\u001b[39m{\u001b[39;00m\u001b[39mself\u001b[39m\u001b[39m.\u001b[39mfirst_name\u001b[39m}\u001b[39;00m\u001b[39m \u001b[39m\u001b[39m{\u001b[39;00m\u001b[39mself\u001b[39m\u001b[39m.\u001b[39mlast_name\u001b[39m}\u001b[39;00m\u001b[39m\"\u001b[39m\n\u001b[0;32m     18\u001b[0m     \u001b[39mreturn\u001b[39;00m full_name\n",
      "\u001b[1;31mAttributeError\u001b[0m: 'str' object has no attribute 'salutation'"
     ]
    }
   ],
   "source": [
    "candidate1 = Candidate(\"John\", \"Smith\")\n",
    "candidate1.get_fullname() # Can you guess why this error occurs? "
   ]
  },
  {
   "cell_type": "code",
   "execution_count": 89,
   "metadata": {},
   "outputs": [],
   "source": [
    "#Fix the TODO and run the test\n",
    "class Candidate:\n",
    "    \"\"\" Constructor \"\"\"\n",
    "    def __init__(self, first_name:str, last_name:str, language:Language = Language.English) -> None: #TODO: there is an fix needed here can you guess?\n",
    "        #print(\"Entering the init\")\n",
    "        self.first_name = first_name\n",
    "        self.last_name = last_name\n",
    "        self.language = language\n",
    "\n",
    "    # Notice use of underscore as prefix here\n",
    "    def get_fullname(self):\n",
    "        person_address = self.language.salutation\n",
    "        full_name = f\"{person_address} {self.first_name} {self.last_name}\"\n",
    "        return full_name\n",
    "\n",
    "    \"\"\"\n",
    "    Cretes the string representation when print() is called\n",
    "    \"\"\"\n",
    "    def __str__(self) -> str:\n",
    "        candidate_str = f\"FirstName={self.first_name}, LastName={self.last_name}, Language={self.language}\"\n",
    "        return candidate_str\n",
    "    \n",
    "    \"\"\"\n",
    "    By default, when IPython displays an object, it seems to use __repr__.\n",
    "    __repr__ is supposed to produce a unique string which could be used to \n",
    "    reconstruct an object, given the right environment. \n",
    "    \n",
    "    This is distinct from __str__, which supposed to produce human-readable output    \n",
    "    \"\"\"\n",
    "    def _repr_pretty_(self, p, cycle) -> None:\n",
    "       p.text(str(self) if not cycle else '...')\n",
    "\n",
    "    def __eq__(self, other):\n",
    "      if isinstance(other, Candidate):\n",
    "         return self.first_name == other.first_name and self.last_name == other.last_name\n",
    "      return False\n",
    "\n",
    "    # Both __eq__ and __hash__ methods have to be overridden\n",
    "    # ideally the hash function should only depend on the attributes used for equality check\n",
    "    def __hash__(self):\n",
    "        return hash((self.first_name, self.last_name))"
   ]
  },
  {
   "cell_type": "code",
   "execution_count": 90,
   "metadata": {},
   "outputs": [
    {
     "data": {
      "text/plain": [
       "'Mr. John Smith'"
      ]
     },
     "execution_count": 90,
     "metadata": {},
     "output_type": "execute_result"
    }
   ],
   "source": [
    "candidate1 = Candidate(\"John\", \"Smith\")\n",
    "candidate1.get_fullname() # Now this should work after fix"
   ]
  },
  {
   "cell_type": "code",
   "execution_count": 94,
   "metadata": {},
   "outputs": [],
   "source": [
    "# Now we add more functionality here\n",
    "# 1. Add the get_email_content method, by removing many arguments\n",
    "# 2. Load the accept and reject templates in the constructor\n",
    "class Candidate:\n",
    "    \"\"\" Constructor \"\"\"\n",
    "    def __init__(self, first_name: str, last_name:str, language:Language = Language.English) -> None:\n",
    "        #print(\"Entering the init\")\n",
    "        self.first_name = first_name\n",
    "        self.last_name = last_name\n",
    "        self.language = language\n",
    "\n",
    "    with open(\"accept_email_template.txt\", \"r+\") as accept_file:\n",
    "        file_contents = accept_file.read()\n",
    "        accept_template = Template(file_contents) # Note self was added to make accept_template instance variable\n",
    "\n",
    "    with open(\"reject_email_template.txt\", \"r+\") as reject_file:\n",
    "        file_contents = reject_file.read()\n",
    "        reject_template = Template(file_contents) # Note self was added to make reject_template instance variable\n",
    "\n",
    "        #TODO: There is something wrong in the above code. What is it?\n",
    "\n",
    "    # Notice use of underscore as prefix here\n",
    "    def get_fullname(self):\n",
    "        person_address = self.language.salutation\n",
    "        full_name = f\"{person_address} {self.first_name} {self.last_name}\"\n",
    "        return full_name\n",
    "\n",
    "    # New public method\n",
    "    def get_email_content(self, rejected=False):\n",
    "        full_name = get_fullname(first_name, last_name, \"English\") #TODO: What change is required here?\n",
    "        if rejected:\n",
    "            email_contents = reject_template.substitute(name = full_name)\n",
    "        else:\n",
    "            email_contents = accept_template.substitute(name = full_name)\n",
    "        \n",
    "        return email_contents\n",
    "\n",
    "    \"\"\"\n",
    "    Cretes the string representation when print() is called\n",
    "    \"\"\"\n",
    "    def __str__(self) -> str:\n",
    "        candidate_str = f\"FirstName={self.first_name}, LastName={self.last_name}, Language={self.language}\"\n",
    "        return candidate_str\n",
    "    \n",
    "    \"\"\"\n",
    "    By default, when IPython displays an object, it seems to use __repr__.\n",
    "    __repr__ is supposed to produce a unique string which could be used to \n",
    "    reconstruct an object, given the right environment. \n",
    "    \n",
    "    This is distinct from __str__, which supposed to produce human-readable output    \n",
    "    \"\"\"\n",
    "    def _repr_pretty_(self, p, cycle) -> None:\n",
    "       p.text(str(self) if not cycle else '...')\n",
    "\n",
    "    def __eq__(self, other):\n",
    "      if isinstance(other, Candidate):\n",
    "         return self.first_name == other.first_name and self.last_name == other.last_name\n",
    "      return False\n",
    "\n",
    "    # Both __eq__ and __hash__ methods have to be overridden\n",
    "    # ideally the hash function should only depend on the attributes used for equality check\n",
    "    def __hash__(self):\n",
    "        return hash((self.first_name, self.last_name))"
   ]
  },
  {
   "cell_type": "code",
   "execution_count": 95,
   "metadata": {},
   "outputs": [],
   "source": [
    "# Fix the TODO here one by one and see the errors\n",
    "class Candidate:\n",
    "    \"\"\" Constructor \"\"\"\n",
    "    def __init__(self, first_name: str, last_name:str, language:Language = Language.English) -> None:\n",
    "        #print(\"Entering the init\")\n",
    "        self.first_name = first_name\n",
    "        self.last_name = last_name\n",
    "        self.language = language\n",
    "\n",
    "    with open(\"accept_email_template.txt\", \"r+\") as accept_file:\n",
    "        file_contents = accept_file.read()\n",
    "        accept_template = Template(file_contents) # Note self was added to make accept_template instance variable\n",
    "\n",
    "    with open(\"reject_email_template.txt\", \"r+\") as reject_file:\n",
    "        file_contents = reject_file.read()\n",
    "        reject_template = Template(file_contents) # Note self was added to make reject_template instance variable\n",
    "\n",
    "        #TODO: There is something wrong in the above code. What is it?\n",
    "\n",
    "    # Notice use of underscore as prefix here\n",
    "    def get_fullname(self):\n",
    "        person_address = self.language.salutation\n",
    "        full_name = f\"{person_address} {self.first_name} {self.last_name}\"\n",
    "        return full_name\n",
    "\n",
    "    # New public method\n",
    "    def get_email_content(self, rejected=False):\n",
    "        full_name = get_fullname(first_name, last_name, \"English\") #TODO: What change is required here?\n",
    "        if rejected:\n",
    "            email_contents = reject_template.substitute(name = full_name)\n",
    "        else:\n",
    "            email_contents = accept_template.substitute(name = full_name)\n",
    "        \n",
    "        return email_contents\n",
    "\n",
    "    \"\"\"\n",
    "    Cretes the string representation when print() is called\n",
    "    \"\"\"\n",
    "    def __str__(self) -> str:\n",
    "        candidate_str = f\"FirstName={self.first_name}, LastName={self.last_name}, Language={self.language}\"\n",
    "        return candidate_str\n",
    "    \n",
    "    \"\"\"\n",
    "    By default, when IPython displays an object, it seems to use __repr__.\n",
    "    __repr__ is supposed to produce a unique string which could be used to \n",
    "    reconstruct an object, given the right environment. \n",
    "    \n",
    "    This is distinct from __str__, which supposed to produce human-readable output    \n",
    "    \"\"\"\n",
    "    def _repr_pretty_(self, p, cycle) -> None:\n",
    "       p.text(str(self) if not cycle else '...')\n",
    "\n",
    "    def __eq__(self, other):\n",
    "      if isinstance(other, Candidate):\n",
    "         return self.first_name == other.first_name and self.last_name == other.last_name\n",
    "      return False\n",
    "\n",
    "    # Both __eq__ and __hash__ methods have to be overridden\n",
    "    # ideally the hash function should only depend on the attributes used for equality check\n",
    "    def __hash__(self):\n",
    "        return hash((self.first_name, self.last_name))"
   ]
  },
  {
   "cell_type": "code",
   "execution_count": 96,
   "metadata": {},
   "outputs": [
    {
     "data": {
      "text/plain": [
       "''"
      ]
     },
     "execution_count": 96,
     "metadata": {},
     "output_type": "execute_result"
    }
   ],
   "source": [
    "candidate1 = Candidate(\"John\", \"Smith\")\n",
    "candidate1.get_email_content() "
   ]
  },
  {
   "cell_type": "code",
   "execution_count": 97,
   "metadata": {},
   "outputs": [],
   "source": [
    "# Finally a working class\n",
    "class Candidate:\n",
    "    \"\"\" Constructor \"\"\"\n",
    "    def __init__(self, first_name: str, last_name:str, language:Language = Language.English) -> None:\n",
    "        #print(\"Entering the init\")\n",
    "        self.first_name = first_name\n",
    "        self.last_name = last_name\n",
    "        self.language = language\n",
    "\n",
    "        # Note: The logic is repetitive. We will fix it in next step\n",
    "        with open(\"accept_email_template.txt\", \"r+\") as accept_file:\n",
    "            file_contents = accept_file.read()\n",
    "            self.accept_template = Template(file_contents) # Note self was added to make accept_template instance variable\n",
    "\n",
    "        with open(\"reject_email_template.txt\", \"r+\") as reject_file:\n",
    "            file_contents = reject_file.read()\n",
    "            self.reject_template = Template(file_contents) # Note self was added to make reject_template instance variable\n",
    "\n",
    "    # Notice use of underscore as prefix here\n",
    "    def get_fullname(self):\n",
    "        person_address = self.language.salutation\n",
    "        full_name = f\"{person_address} {self.first_name} {self.last_name}\"\n",
    "        return full_name\n",
    "\n",
    "    # New public method\n",
    "    def get_email_content(self, rejected=False):\n",
    "        full_name = self.get_fullname() \n",
    "        if rejected:\n",
    "            email_contents = reject_template.substitute(name = full_name)\n",
    "        else:\n",
    "            email_contents = accept_template.substitute(name = full_name)\n",
    "        \n",
    "        return email_contents\n",
    "\n",
    "    \"\"\"\n",
    "    Cretes the string representation when print() is called\n",
    "    \"\"\"\n",
    "    def __str__(self) -> str:\n",
    "        candidate_str = f\"FirstName={self.first_name}, LastName={self.last_name}, Language={self.language}\"\n",
    "        return candidate_str\n",
    "    \n",
    "    \"\"\"\n",
    "    By default, when IPython displays an object, it seems to use __repr__.\n",
    "    __repr__ is supposed to produce a unique string which could be used to \n",
    "    reconstruct an object, given the right environment. \n",
    "    \n",
    "    This is distinct from __str__, which supposed to produce human-readable output    \n",
    "    \"\"\"\n",
    "    def _repr_pretty_(self, p, cycle) -> None:\n",
    "       p.text(str(self) if not cycle else '...')\n",
    "\n",
    "    def __eq__(self, other):\n",
    "      if isinstance(other, Candidate):\n",
    "         return self.first_name == other.first_name and self.last_name == other.last_name\n",
    "      return False\n",
    "\n",
    "    # Both __eq__ and __hash__ methods have to be overridden\n",
    "    # ideally the hash function should only depend on the attributes used for equality check\n",
    "    def __hash__(self):\n",
    "        return hash((self.first_name, self.last_name)) "
   ]
  },
  {
   "cell_type": "code",
   "execution_count": 98,
   "metadata": {},
   "outputs": [
    {
     "data": {
      "text/plain": [
       "''"
      ]
     },
     "execution_count": 98,
     "metadata": {},
     "output_type": "execute_result"
    }
   ],
   "source": [
    "candidate1 = Candidate(\"John\", \"Smith\")\n",
    "candidate1.get_email_content()"
   ]
  },
  {
   "cell_type": "code",
   "execution_count": 99,
   "metadata": {},
   "outputs": [],
   "source": [
    "# TODO: Refactor the open() function into reusable static method\n",
    "class Candidate:\n",
    "    \"\"\" Constructor \"\"\"\n",
    "    def __init__(self, first_name: str, last_name:str, language:Language = Language.English) -> None:\n",
    "        #print(\"Entering the init\")\n",
    "        self.first_name = first_name\n",
    "        self.last_name = last_name\n",
    "        self.language = language\n",
    "\n",
    "        # TODO: Extract a method from this logic\n",
    "        with open(\"accept_email_template.txt\", \"r+\") as accept_file:\n",
    "            file_contents = accept_file.read()\n",
    "            self.accept_template = Template(file_contents) \n",
    "\n",
    "        with open(\"reject_email_template.txt\", \"r+\") as reject_file:\n",
    "            file_contents = reject_file.read()\n",
    "            self.reject_template = Template(file_contents) \n",
    "\n",
    "    # Notice use of underscore as prefix here\n",
    "    def get_fullname(self):\n",
    "        person_address = self.language.salutation\n",
    "        full_name = f\"{person_address} {self.first_name} {self.last_name}\"\n",
    "        return full_name\n",
    "\n",
    "    # New public method\n",
    "    def get_email_content(self, rejected=False):\n",
    "        full_name = self.get_fullname() \n",
    "        if rejected:\n",
    "            email_contents = reject_template.substitute(name = full_name)\n",
    "        else:\n",
    "            email_contents = accept_template.substitute(name = full_name)\n",
    "        \n",
    "        return email_contents\n",
    "\n",
    "    \"\"\"\n",
    "    Cretes the string representation when print() is called\n",
    "    \"\"\"\n",
    "    def __str__(self) -> str:\n",
    "        candidate_str = f\"FirstName={self.first_name}, LastName={self.last_name}, Language={self.language}\"\n",
    "        return candidate_str\n",
    "    \n",
    "    \"\"\"\n",
    "    By default, when IPython displays an object, it seems to use __repr__.\n",
    "    __repr__ is supposed to produce a unique string which could be used to \n",
    "    reconstruct an object, given the right environment. \n",
    "    \n",
    "    This is distinct from __str__, which supposed to produce human-readable output    \n",
    "    \"\"\"\n",
    "    def _repr_pretty_(self, p, cycle) -> None:\n",
    "       p.text(str(self) if not cycle else '...')\n",
    "\n",
    "    def __eq__(self, other):\n",
    "      if isinstance(other, Candidate):\n",
    "         return self.first_name == other.first_name and self.last_name == other.last_name\n",
    "      return False\n",
    "\n",
    "    # Both __eq__ and __hash__ methods have to be overridden\n",
    "    # ideally the hash function should only depend on the attributes used for equality check\n",
    "    def __hash__(self):\n",
    "        return hash((self.first_name, self.last_name)) "
   ]
  },
  {
   "cell_type": "code",
   "execution_count": 100,
   "metadata": {},
   "outputs": [
    {
     "data": {
      "text/plain": [
       "''"
      ]
     },
     "execution_count": 100,
     "metadata": {},
     "output_type": "execute_result"
    }
   ],
   "source": [
    "# Again we test it\n",
    "candidate1 = Candidate(\"John\", \"Smith\")\n",
    "candidate1.get_email_content()"
   ]
  },
  {
   "cell_type": "code",
   "execution_count": 101,
   "metadata": {},
   "outputs": [],
   "source": [
    "# One absolutely last refactoring\n",
    "# Notice use of change by addition of _ prefix in _get_fullname() method\n",
    "# Python does not have concept of public, private protected methods...\n",
    "# All methods are public methods\n",
    "# By prefixing a underscore _ we tell other human readers of this code that the function is private\n",
    "class Candidate:\n",
    "    \"\"\" Constructor \"\"\"\n",
    "    def __init__(self, first_name: str, last_name:str, language:Language = Language.English) -> None:\n",
    "        #print(\"Entering the init\")\n",
    "        self.first_name = first_name\n",
    "        self.last_name = last_name\n",
    "        self.language = language\n",
    "\n",
    "        self.accept_template = Candidate._get_template(\"accept_email_template.txt\")\n",
    "        self.reject_template = Candidate._get_template(\"reject_email_template.txt\")\n",
    "\n",
    "    @staticmethod\n",
    "    def _get_template(filename):\n",
    "        template = None        \n",
    "        with open(filename, \"r+\") as template_file:\n",
    "            file_contents = template_file.read()\n",
    "            template = Template(file_contents)\n",
    "\n",
    "        return template\n",
    "\n",
    "    # Notice use of underscore as prefix here\n",
    "    def _get_fullname(self):\n",
    "        person_address = self.language.salutation\n",
    "        full_name = f\"{person_address} {self.first_name} {self.last_name}\"\n",
    "        return full_name\n",
    "\n",
    "    # New public method\n",
    "    def get_email_content(self, rejected=False):\n",
    "        full_name = self._get_fullname() # Note the change to this method invocation\n",
    "        if rejected:\n",
    "            email_contents = reject_template.substitute(name = full_name)\n",
    "        else:\n",
    "            email_contents = accept_template.substitute(name = full_name)\n",
    "        \n",
    "        return email_contents\n",
    "\n",
    "    \"\"\"\n",
    "    Cretes the string representation when print() is called\n",
    "    \"\"\"\n",
    "    def __str__(self) -> str:\n",
    "        candidate_str = f\"FirstName={self.first_name}, LastName={self.last_name}, Language={self.language}\"\n",
    "        return candidate_str\n",
    "    \n",
    "    \"\"\"\n",
    "    By default, when IPython displays an object, it seems to use __repr__.\n",
    "    __repr__ is supposed to produce a unique string which could be used to \n",
    "    reconstruct an object, given the right environment. \n",
    "    \n",
    "    This is distinct from __str__, which supposed to produce human-readable output    \n",
    "    \"\"\"\n",
    "    def _repr_pretty_(self, p, cycle) -> None:\n",
    "       p.text(str(self) if not cycle else '...')\n",
    "\n",
    "    def __eq__(self, other):\n",
    "      if isinstance(other, Candidate):\n",
    "         return self.first_name == other.first_name and self.last_name == other.last_name\n",
    "      return False\n",
    "\n",
    "    # Both __eq__ and __hash__ methods have to be overridden\n",
    "    # ideally the hash function should only depend on the attributes used for equality check\n",
    "    def __hash__(self):\n",
    "        return hash((self.first_name, self.last_name)) "
   ]
  },
  {
   "cell_type": "code",
   "execution_count": 102,
   "metadata": {},
   "outputs": [
    {
     "data": {
      "text/plain": [
       "''"
      ]
     },
     "execution_count": 102,
     "metadata": {},
     "output_type": "execute_result"
    }
   ],
   "source": [
    "# Again we test it\n",
    "candidate1 = Candidate(\"John\", \"Smith\")\n",
    "candidate1.get_email_content(rejected=True)"
   ]
  }
 ],
 "metadata": {
  "kernelspec": {
   "display_name": "quickstart",
   "language": "python",
   "name": "python3"
  },
  "language_info": {
   "codemirror_mode": {
    "name": "ipython",
    "version": 3
   },
   "file_extension": ".py",
   "mimetype": "text/x-python",
   "name": "python",
   "nbconvert_exporter": "python",
   "pygments_lexer": "ipython3",
   "version": "3.9.17"
  },
  "orig_nbformat": 4
 },
 "nbformat": 4,
 "nbformat_minor": 2
}
