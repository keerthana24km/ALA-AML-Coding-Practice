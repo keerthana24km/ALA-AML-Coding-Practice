{
 "cells": [
  {
   "cell_type": "code",
   "execution_count": 42,
   "metadata": {},
   "outputs": [],
   "source": [
    "import numpy as np\n",
    "import pandas as pd\n",
    "import math"
   ]
  },
  {
   "cell_type": "code",
   "execution_count": 43,
   "metadata": {},
   "outputs": [
    {
     "name": "stdout",
     "output_type": "stream",
     "text": [
      "                                  movie  \\\n",
      "0  The Lord of the Rings The Two Towers   \n",
      "1                             Inception   \n",
      "2     Spiderman Across the spider verse   \n",
      "3                       The Dark Knight   \n",
      "4                      Three colors red   \n",
      "\n",
      "                                              review  \n",
      "0  remarkable display of fantasy action powerful ...  \n",
      "1  implanting stealing idea destroy gripping acti...  \n",
      "2  mind bending wild action sequences intimate em...  \n",
      "3  Best live action portrayal beat organized crim...  \n",
      "4  mesmerising friendship turned love profound un...  \n"
     ]
    }
   ],
   "source": [
    "data = pd.read_csv('moviereviews.csv')\n",
    "print(data.head())"
   ]
  },
  {
   "cell_type": "code",
   "execution_count": 44,
   "metadata": {},
   "outputs": [
    {
     "name": "stdout",
     "output_type": "stream",
     "text": [
      "{1: 'action', 2: 'adventure', 3: 'affair', 4: 'amazing', 5: 'beat', 6: 'bending', 7: 'Best', 8: 'blossoming', 9: 'bonding', 10: 'boxing', 11: 'british', 12: 'brutal', 13: 'brutality', 14: 'chance', 15: 'cherished', 16: 'classic', 17: 'comedy', 18: 'comical', 19: 'crime', 20: 'destroy', 21: 'display', 22: 'drama', 23: 'dropping', 24: 'each', 25: 'ego', 26: 'emotional', 27: 'encounter', 28: 'enigmatic', 29: 'epic', 30: 'evening', 31: 'ever', 32: 'fantasy', 33: 'fascinating', 34: 'fight', 35: 'film', 36: 'finding', 37: 'fleeting', 38: 'friendship', 39: 'Gotham', 40: 'go', 41: 'good', 42: 'greatest', 43: 'gripping', 44: 'heart', 45: 'heartfelt', 46: 'heartwarming', 47: 'hobbit', 48: 'idea', 49: 'implanting', 50: 'in', 51: 'infatuation', 52: 'into', 53: 'it', 54: 'jaw', 55: 'journey', 56: 'know', 57: 'Length', 58: 'life', 59: 'likable', 60: 'live', 61: 'love', 62: 'made', 63: 'magical', 64: 'meeting', 65: 'mesmerising', 66: 'mind', 67: 'moments', 68: 'movie', 69: 'Neighbors', 70: 'not', 71: 'of', 72: 'officer', 73: 'organized', 74: 'other', 75: 'ottoman', 76: 'outside', 77: 'people', 78: 'person', 79: 'pitiable', 80: 'portrayal', 81: 'powerful', 82: 'predicament', 83: 'prisoner', 84: 'profound', 85: 'psychological', 86: 'reignited', 87: 'relationship', 88: 'remarkable', 89: 'ring', 90: 'rollercoaster', 91: 'romance', 92: 'romantic', 93: 'screwball', 94: 'sequences', 95: 'solace', 96: 'someone', 97: 'special', 98: 'spell', 99: 'sports', 100: 'stealing', 101: 'stunning', 102: 'success', 103: 'surviving', 104: 'tale', 105: 'to', 106: 'touching', 107: 'tragedy', 108: 'true', 109: 'turbulent', 110: 'turned', 111: 'unconventional', 112: 'villain', 113: 'violence', 114: 'visual', 115: 'war', 116: 'wild'}\n"
     ]
    }
   ],
   "source": [
    "word_dictionary = {1:\"action\", 2:\"adventure\", 3:\"affair\", 4:\"amazing\",\n",
    "                   5:\"beat\", 6:\"bending\", 7:\"Best\", 8:\"blossoming\", 9:\"bonding\", 10:\"boxing\", 11:\"british\", 12:\"brutal\", 13:\"brutality\",\n",
    "                   14:\"chance\", 15:\"cherished\", 16:\"classic\", 17:\"comedy\", 18:\"comical\", 19:\"crime\",\n",
    "                   20:\"destroy\", 21:\"display\", 22:\"drama\", 23:\"dropping\",\n",
    "                   24:\"each\", 25:\"ego\", 26:\"emotional\", 27:\"encounter\", 28:\"enigmatic\", 29:\"epic\", 30:\"evening\", 31:\"ever\",\n",
    "                   32:\"fantasy\", 33:\"fascinating\", 34:\"fight\", 35:\"film\", 36:\"finding\", 37:\"fleeting\", 38:\"friendship\",\n",
    "                   39:\"Gotham\", 40:\"go\", 41:\"good\", 42:\"greatest\", 43:\"gripping\",\n",
    "                   44:\"heart\", 45:\"heartfelt\", 46:\"heartwarming\", 47:\"hobbit\",\n",
    "                   48:\"idea\", 49:\"implanting\", 50:\"in\", 51:\"infatuation\", 52:\"into\", 53:\"it\",\n",
    "                   54:\"jaw\", 55:\"journey\",\n",
    "                   56:\"know\",\n",
    "                   57:\"Length\", 58:\"life\", 59:\"likable\", 60:\"live\", 61:\"love\",\n",
    "                   62:\"made\", 63:\"magical\", 64:\"meeting\", 65:\"mesmerising\", 66:\"mind\", 67:\"moments\", 68:\"movie\",\n",
    "                   69:\"Neighbors\", 70:\"not\",\n",
    "                   71:\"of\", 72:\"officer\", 73:\"organized\", 74:\"other\", 75:\"ottoman\", 76:\"outside\",\n",
    "                   77:\"people\", 78:\"person\", 79:\"pitiable\", 80:\"portrayal\", 81:\"powerful\", 82:\"predicament\", 83:\"prisoner\", 84:\"profound\", 85:\"psychological\",\n",
    "                   86:\"reignited\", 87:\"relationship\", 88:\"remarkable\", 89:\"ring\", 90:\"rollercoaster\", 91:\"romance\", 92:\"romantic\",\n",
    "                   93:\"screwball\", 94:\"sequences\", 95:\"solace\", 96:\"someone\", 97:\"special\", 98:\"spell\", 99:\"sports\", 100:\"stealing\", 101:\"stunning\", 102:\"success\", 103:\"surviving\",\n",
    "                   104:\"tale\", 105:\"to\", 106:\"touching\", 107:\"tragedy\", 108:\"true\", 109:\"turbulent\", 110:\"turned\",\n",
    "                   111:\"unconventional\",\n",
    "                   112:\"villain\", 113:\"violence\", 114:\"visual\",\n",
    "                   115:\"war\", 116:\"wild\"}\n",
    "print(word_dictionary)"
   ]
  },
  {
   "cell_type": "code",
   "execution_count": 45,
   "metadata": {},
   "outputs": [
    {
     "name": "stdout",
     "output_type": "stream",
     "text": [
      "[1, 1, 1, 1, 1, 1, 1, 1, 1, 1, 1, 1, 1, 1, 1, 1, 1, 1, 1, 1, 1, 1, 1, 1, 1, 1, 1, 1, 1, 1, 1, 1, 1, 1, 1, 1, 1, 1, 1, 1, 1, 1, 1, 1, 1, 1, 1, 1, 1, 1, 1, 1, 1, 1, 1, 1, 1, 1, 1, 1, 1, 1, 1, 1, 1, 1, 1, 1, 1, 1, 1, 1, 1, 1, 1, 1, 1, 1, 1, 1, 1, 1, 1, 1, 1, 1, 1, 1, 1, 1, 1, 1, 1, 1, 1, 1, 1, 1, 1, 1, 1, 1, 1, 1, 1, 1, 1, 1, 1, 1, 1, 1, 1, 1, 1, 1, 1, 1, 1, 1, 1, 1, 1, 1, 1, 1, 1, 1, 1, 1, 1, 1]\n",
      "[88, 21, 71, 32, 1, 81, 89, 47, 20, 53, 49, 100, 48, 20, 43, 1, 54, 23, 34, 101, 114, 66, 6, 116, 1, 94, 26, 67, 4, 7, 60, 1, 80, 5, 73, 19, 50, 39, 28, 112, 13, 65, 38, 110, 61, 84, 111, 45, 17, 93, 17, 104, 71, 91, 18, 108, 69, 95, 9, 3, 82, 98, 51, 8, 61, 56, 24, 74, 14, 27, 64, 96, 97, 37, 91, 63, 29, 91, 42, 92, 35, 31, 62, 106, 4, 87, 15, 57, 77, 40, 36, 61, 71, 58, 26, 90, 50, 8, 71, 61, 68, 38, 58, 34, 105, 41, 78, 83, 12, 10, 99, 68, 109, 58, 76, 89, 107, 70, 59, 79, 16, 2, 115, 68, 85, 22, 11, 72, 34, 75, 102, 25]\n",
      "132\n",
      "132\n"
     ]
    }
   ],
   "source": [
    "word_list = []\n",
    "for i in range(data[\"review\"].__len__()):\n",
    "    word_list.append(str(data[\"review\"][i]).split(' '))\n",
    "k=0\n",
    "count=1\n",
    "res=0\n",
    "vector = []\n",
    "matrix_vector = []\n",
    "for i in range(word_list.__len__()):\n",
    "    for j in range(word_list[i].__len__()-1):\n",
    "        k = word_list[i].__len__()-1\n",
    "        count=1\n",
    "        while(k>j):\n",
    "            if(word_list[i][j] == word_list[i][k]):\n",
    "                count=count+1\n",
    "                k=k-1\n",
    "            else:\n",
    "                count=1\n",
    "                k=k-1\n",
    "        res = count\n",
    "        for n in range(1,word_dictionary.__len__()+1):\n",
    "            if(word_list[i][j] == word_dictionary[n]):\n",
    "                vector.append(res)\n",
    "                matrix_vector.append(n)\n",
    "print(vector)\n",
    "print(matrix_vector)\n",
    "m=0\n",
    "for i in range(vector.__len__()):\n",
    "    m+=1\n",
    "print(m)\n",
    "m=0\n",
    "for i in range(matrix_vector.__len__()):\n",
    "    m+=1\n",
    "print(m)"
   ]
  },
  {
   "cell_type": "code",
   "execution_count": 46,
   "metadata": {},
   "outputs": [
    {
     "name": "stdout",
     "output_type": "stream",
     "text": [
      "Dot product of two vectors =  25\n"
     ]
    }
   ],
   "source": [
    "dot_product = []\n",
    "for k in range(vector.__len__()):\n",
    "    dot_product = np.dot(vector[k],matrix_vector[k])\n",
    "print(\"Dot product of two vectors = \",dot_product)"
   ]
  },
  {
   "cell_type": "code",
   "execution_count": 47,
   "metadata": {},
   "outputs": [
    {
     "name": "stdout",
     "output_type": "stream",
     "text": [
      "Angle between two vectors, cos theta =  1.0\n"
     ]
    }
   ],
   "source": [
    "angle_between_two_vectors = 0\n",
    "for k in range(vector.__len__()):\n",
    "    angle_between_two_vectors = (np.dot(vector[k],matrix_vector[k]))/(math.sqrt(pow(vector[k],2))*math.sqrt(pow(matrix_vector[k],2)))\n",
    "print(\"Angle between two vectors, cos theta = \",angle_between_two_vectors)"
   ]
  },
  {
   "cell_type": "code",
   "execution_count": 48,
   "metadata": {},
   "outputs": [
    {
     "name": "stdout",
     "output_type": "stream",
     "text": [
      "Inception\n",
      "['remarkable', 'display', 'of', 'fantasy', 'action', 'powerful', 'ring', 'hobbit', 'destroy', 'it', 'fight']\n",
      "Spiderman Across the spider verse\n",
      "['implanting', 'stealing', 'idea', 'destroy', 'gripping', 'action', 'jaw', 'dropping', 'fight', 'stunning', 'visual', 'violence']\n",
      "The Dark Knight\n",
      "['mind', 'bending', 'wild', 'action', 'sequences', 'intimate', 'emotional', 'moments', 'amazing', 'action']\n"
     ]
    }
   ],
   "source": [
    "topsimilar = []\n",
    "for i in range(word_list.__len__()-1):\n",
    "    for j in range(word_list[i].__len__()-1):\n",
    "      for k in range(word_list[i+1].__len__()-1):\n",
    "        if(word_list[i][j] == word_list[i+1][k]):\n",
    "            topsimilar.append(word_list[i])\n",
    "            break \n",
    "for top in range(1,4):\n",
    "   print(data['movie'][top])\n",
    "   print(topsimilar[top])"
   ]
  },
  {
   "cell_type": "code",
   "execution_count": 49,
   "metadata": {},
   "outputs": [
    {
     "name": "stdout",
     "output_type": "stream",
     "text": [
      "7377\n"
     ]
    }
   ],
   "source": [
    "dot_product = []\n",
    "sum=0\n",
    "for k in range(vector.__len__()):\n",
    "    dot_product.append(vector[k]*matrix_vector[k])\n",
    "for k in range(vector.__len__()):\n",
    "    sum += dot_product[k]\n",
    "print(sum)"
   ]
  }
 ],
 "metadata": {
  "kernelspec": {
   "display_name": "pycaretenv",
   "language": "python",
   "name": "python3"
  },
  "language_info": {
   "codemirror_mode": {
    "name": "ipython",
    "version": 3
   },
   "file_extension": ".py",
   "mimetype": "text/x-python",
   "name": "python",
   "nbconvert_exporter": "python",
   "pygments_lexer": "ipython3",
   "version": "3.9.17"
  },
  "orig_nbformat": 4
 },
 "nbformat": 4,
 "nbformat_minor": 2
}
