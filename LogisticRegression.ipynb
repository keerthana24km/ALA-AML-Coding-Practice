{
  "cells": [
    {
      "cell_type": "markdown",
      "id": "d53ylTKoavaE",
      "metadata": {
        "id": "d53ylTKoavaE"
      },
      "source": [
        "Load essential libraries"
      ]
    },
    {
      "cell_type": "code",
      "execution_count": 1,
      "id": "11cd04ba",
      "metadata": {
        "id": "11cd04ba"
      },
      "outputs": [
        {
          "name": "stderr",
          "output_type": "stream",
          "text": [
            "C:\\Users\\user\\AppData\\Local\\Temp\\ipykernel_14340\\523969277.py:7: MatplotlibDeprecationWarning: The seaborn styles shipped by Matplotlib are deprecated since 3.6, as they no longer correspond to the styles shipped by seaborn. However, they will remain available as 'seaborn-v0_8-<style>'. Alternatively, directly use the seaborn API instead.\n",
            "  plt.style.use('seaborn-whitegrid')\n"
          ]
        }
      ],
      "source": [
        "## Load essential libraries\n",
        "import numpy as np\n",
        "import pandas as pd\n",
        "import sys\n",
        "import matplotlib.pyplot as plt\n",
        "import matplotlib.cm as cm\n",
        "plt.style.use('seaborn-whitegrid')\n",
        "%matplotlib inline\n",
        "\n",
        "from sklearn.preprocessing import OneHotEncoder, LabelEncoder\n",
        "from sklearn.model_selection import train_test_split\n",
        "\n",
        "import warnings\n",
        "warnings.filterwarnings(\"ignore\")"
      ]
    },
    {
      "cell_type": "markdown",
      "id": "2OiQVoA4a5iX",
      "metadata": {
        "id": "2OiQVoA4a5iX"
      },
      "source": [
        "Mount the Google Drive folder, if needed, for accessing data"
      ]
    },
    {
      "cell_type": "code",
      "execution_count": 2,
      "id": "8N869o4CHSl3",
      "metadata": {
        "id": "8N869o4CHSl3"
      },
      "outputs": [],
      "source": [
        "## Mount the Google Drive folder, if needed, for accessing data\n",
        "if('google.colab' in sys.modules):\n",
        "    from google.colab import drive\n",
        "    drive.mount('/content/drive', force_remount = True)\n",
        "    # Change path below starting from /content/drive/MyDrive/Colab Notebooks/\n",
        "    # depending on how data is organized inside your Colab Notebooks folder in\n",
        "    # Google Drive\n",
        "    DIR = '/content/drive/MyDrive/Colab Notebooks/MAHE/MSIS Coursework/OddSem2023MAHE'\n",
        "    DATA_DIR = DIR+'/Data/'\n",
        "else:\n",
        "    DATA_DIR = 'Data/'"
      ]
    },
    {
      "cell_type": "markdown",
      "id": "JzzzBexZa73j",
      "metadata": {
        "id": "JzzzBexZa73j"
      },
      "source": [
        "Load the ICU dataset"
      ]
    },
    {
      "cell_type": "code",
      "execution_count": 3,
      "id": "YOyUpg1xaTAz",
      "metadata": {
        "id": "YOyUpg1xaTAz"
      },
      "outputs": [
        {
          "name": "stdout",
          "output_type": "stream",
          "text": [
            "ICU dataset\n",
            "-----------\n",
            "<class 'pandas.core.frame.DataFrame'>\n",
            "RangeIndex: 2362 entries, 0 to 2361\n",
            "Data columns (total 15 columns):\n",
            " #   Column             Non-Null Count  Dtype  \n",
            "---  ------             --------------  -----  \n",
            " 0   Length_of_stay     2362 non-null   int64  \n",
            " 1   In-hospital_death  2362 non-null   object \n",
            " 2   Age                2362 non-null   int64  \n",
            " 3   Gender             2362 non-null   object \n",
            " 4   Height             2362 non-null   float64\n",
            " 5   DiasABP_first      2362 non-null   int64  \n",
            " 6   Glucose_first      2362 non-null   int64  \n",
            " 7   HR_first           2362 non-null   float64\n",
            " 8   Temp_first         2362 non-null   float64\n",
            " 9   PaCO2_first        2362 non-null   int64  \n",
            " 10  PaO2_first         2362 non-null   int64  \n",
            " 11  Platelets_first    2362 non-null   int64  \n",
            " 12  WBC_first          2362 non-null   float64\n",
            " 13  Weight             2362 non-null   float64\n",
            " 14  MechVent           2362 non-null   object \n",
            "dtypes: float64(5), int64(7), object(3)\n",
            "memory usage: 276.9+ KB\n",
            "None\n"
          ]
        }
      ],
      "source": [
        "## Load the ICU dataset\n",
        "FILENAME = 'Data/ICU_Complete.csv'\n",
        "df = pd.read_csv(FILENAME)\n",
        "print('ICU dataset')\n",
        "print('-----------')\n",
        "print(df.info(verbose = True))"
      ]
    },
    {
      "cell_type": "markdown",
      "id": "W1oGyw1-fJhM",
      "metadata": {
        "id": "W1oGyw1-fJhM"
      },
      "source": [
        "Create lists of categorical and continuous features"
      ]
    },
    {
      "cell_type": "code",
      "execution_count": 4,
      "id": "e3VlYBvafNxU",
      "metadata": {
        "id": "e3VlYBvafNxU"
      },
      "outputs": [
        {
          "name": "stdout",
          "output_type": "stream",
          "text": [
            "['Gender', 'MechVent']\n",
            "['Length_of_stay', 'Age', 'Height', 'DiasABP_first', 'Glucose_first', 'HR_first', 'Temp_first', 'PaCO2_first', 'PaO2_first', 'Platelets_first', 'WBC_first', 'Weight']\n"
          ]
        }
      ],
      "source": [
        "## Create lists of categorical and continuous features\n",
        "categorical_features = ['In-hospital_death','Gender', 'MechVent']\n",
        "continuous_features = df.columns[~df.columns.isin(categorical_features)].to_list()\n",
        "target_variable = 'In-hospital_death'\n",
        "categorical_features.remove(target_variable)\n",
        "print(categorical_features)\n",
        "print(continuous_features)"
      ]
    },
    {
      "cell_type": "markdown",
      "id": "DzjCy2FngP1r",
      "metadata": {
        "id": "DzjCy2FngP1r"
      },
      "source": [
        "Assign 'category' datatype to categorical columns"
      ]
    },
    {
      "cell_type": "code",
      "execution_count": 5,
      "id": "41FlDeIggOPx",
      "metadata": {
        "id": "41FlDeIggOPx"
      },
      "outputs": [
        {
          "data": {
            "text/plain": [
              "Length_of_stay          int64\n",
              "In-hospital_death    category\n",
              "Age                     int64\n",
              "Gender               category\n",
              "Height                float64\n",
              "DiasABP_first           int64\n",
              "Glucose_first           int64\n",
              "HR_first              float64\n",
              "Temp_first            float64\n",
              "PaCO2_first             int64\n",
              "PaO2_first              int64\n",
              "Platelets_first         int64\n",
              "WBC_first             float64\n",
              "Weight                float64\n",
              "MechVent             category\n",
              "dtype: object"
            ]
          },
          "execution_count": 5,
          "metadata": {},
          "output_type": "execute_result"
        }
      ],
      "source": [
        "## Assign 'category' datatype to categorical columns and the target variable column\n",
        "df[categorical_features] = df[categorical_features].astype('category')\n",
        "df[target_variable] = df[target_variable].astype('category')\n",
        "df.dtypes"
      ]
    },
    {
      "cell_type": "code",
      "execution_count": 6,
      "id": "9d8205af",
      "metadata": {},
      "outputs": [
        {
          "data": {
            "image/png": "[encoded data removed]",
            "text/plain": [
              "<Figure size 640x480 with 1 Axes>"
            ]
          },
          "metadata": {},
          "output_type": "display_data"
        }
      ],
      "source": [
        "import math \n",
        "  \n",
        "x = np.linspace(-10, 10, 40,782.4) \n",
        "z = 1/(1 + np.exp(-x)) \n",
        "  \n",
        "plt.plot(x, z) \n",
        "plt.xlabel(\"x\") \n",
        "plt.ylabel(\"Sigmoid(X)\") \n",
        "  \n",
        "plt.show() \n",
        "\n",
        "#P(Sample-1 belongs to output label 1) := sigma(z(1))"
      ]
    },
    {
      "cell_type": "markdown",
      "id": "o7nU62nGi-ek",
      "metadata": {
        "id": "o7nU62nGi-ek"
      },
      "source": [
        "One-hot encode the categorical features"
      ]
    },
    {
      "cell_type": "code",
      "execution_count": 7,
      "id": "ce249a9f",
      "metadata": {},
      "outputs": [
        {
          "data": {
            "text/html": [
              "<div>\n",
              "<style scoped>\n",
              "    .dataframe tbody tr th:only-of-type {\n",
              "        vertical-align: middle;\n",
              "    }\n",
              "\n",
              "    .dataframe tbody tr th {\n",
              "        vertical-align: top;\n",
              "    }\n",
              "\n",
              "    .dataframe thead th {\n",
              "        text-align: right;\n",
              "    }\n",
              "</style>\n",
              "<table border=\"1\" class=\"dataframe\">\n",
              "  <thead>\n",
              "    <tr style=\"text-align: right;\">\n",
              "      <th></th>\n",
              "      <th>Gender_Female</th>\n",
              "      <th>Gender_Male</th>\n",
              "      <th>MechVent_No</th>\n",
              "      <th>MechVent_Yes</th>\n",
              "    </tr>\n",
              "  </thead>\n",
              "  <tbody>\n",
              "    <tr>\n",
              "      <th>0</th>\n",
              "      <td>0</td>\n",
              "      <td>1</td>\n",
              "      <td>0</td>\n",
              "      <td>1</td>\n",
              "    </tr>\n",
              "    <tr>\n",
              "      <th>1</th>\n",
              "      <td>1</td>\n",
              "      <td>0</td>\n",
              "      <td>0</td>\n",
              "      <td>1</td>\n",
              "    </tr>\n",
              "    <tr>\n",
              "      <th>2</th>\n",
              "      <td>0</td>\n",
              "      <td>1</td>\n",
              "      <td>0</td>\n",
              "      <td>1</td>\n",
              "    </tr>\n",
              "    <tr>\n",
              "      <th>3</th>\n",
              "      <td>1</td>\n",
              "      <td>0</td>\n",
              "      <td>0</td>\n",
              "      <td>1</td>\n",
              "    </tr>\n",
              "    <tr>\n",
              "      <th>4</th>\n",
              "      <td>0</td>\n",
              "      <td>1</td>\n",
              "      <td>0</td>\n",
              "      <td>1</td>\n",
              "    </tr>\n",
              "    <tr>\n",
              "      <th>...</th>\n",
              "      <td>...</td>\n",
              "      <td>...</td>\n",
              "      <td>...</td>\n",
              "      <td>...</td>\n",
              "    </tr>\n",
              "    <tr>\n",
              "      <th>2357</th>\n",
              "      <td>0</td>\n",
              "      <td>1</td>\n",
              "      <td>0</td>\n",
              "      <td>1</td>\n",
              "    </tr>\n",
              "    <tr>\n",
              "      <th>2358</th>\n",
              "      <td>1</td>\n",
              "      <td>0</td>\n",
              "      <td>1</td>\n",
              "      <td>0</td>\n",
              "    </tr>\n",
              "    <tr>\n",
              "      <th>2359</th>\n",
              "      <td>0</td>\n",
              "      <td>1</td>\n",
              "      <td>0</td>\n",
              "      <td>1</td>\n",
              "    </tr>\n",
              "    <tr>\n",
              "      <th>2360</th>\n",
              "      <td>0</td>\n",
              "      <td>1</td>\n",
              "      <td>0</td>\n",
              "      <td>1</td>\n",
              "    </tr>\n",
              "    <tr>\n",
              "      <th>2361</th>\n",
              "      <td>1</td>\n",
              "      <td>0</td>\n",
              "      <td>1</td>\n",
              "      <td>0</td>\n",
              "    </tr>\n",
              "  </tbody>\n",
              "</table>\n",
              "<p>2362 rows × 4 columns</p>\n",
              "</div>"
            ],
            "text/plain": [
              "      Gender_Female  Gender_Male  MechVent_No  MechVent_Yes\n",
              "0                 0            1            0             1\n",
              "1                 1            0            0             1\n",
              "2                 0            1            0             1\n",
              "3                 1            0            0             1\n",
              "4                 0            1            0             1\n",
              "...             ...          ...          ...           ...\n",
              "2357              0            1            0             1\n",
              "2358              1            0            1             0\n",
              "2359              0            1            0             1\n",
              "2360              0            1            0             1\n",
              "2361              1            0            1             0\n",
              "\n",
              "[2362 rows x 4 columns]"
            ]
          },
          "execution_count": 7,
          "metadata": {},
          "output_type": "execute_result"
        }
      ],
      "source": [
        "pd.get_dummies(df[categorical_features])"
      ]
    },
    {
      "cell_type": "code",
      "execution_count": 8,
      "id": "hHcfJeF9i8-6",
      "metadata": {
        "id": "hHcfJeF9i8-6"
      },
      "outputs": [],
      "source": [
        "## One-hot encode the categorical features\n",
        "df = pd.concat([df, pd.get_dummies(df[categorical_features])], axis = 1).drop(categorical_features, axis = 1)"
      ]
    },
    {
      "cell_type": "code",
      "execution_count": 9,
      "id": "18ab3fb0",
      "metadata": {},
      "outputs": [
        {
          "data": {
            "text/html": [
              "<div>\n",
              "<style scoped>\n",
              "    .dataframe tbody tr th:only-of-type {\n",
              "        vertical-align: middle;\n",
              "    }\n",
              "\n",
              "    .dataframe tbody tr th {\n",
              "        vertical-align: top;\n",
              "    }\n",
              "\n",
              "    .dataframe thead th {\n",
              "        text-align: right;\n",
              "    }\n",
              "</style>\n",
              "<table border=\"1\" class=\"dataframe\">\n",
              "  <thead>\n",
              "    <tr style=\"text-align: right;\">\n",
              "      <th></th>\n",
              "      <th>Length_of_stay</th>\n",
              "      <th>In-hospital_death</th>\n",
              "      <th>Age</th>\n",
              "      <th>Height</th>\n",
              "      <th>DiasABP_first</th>\n",
              "      <th>Glucose_first</th>\n",
              "      <th>HR_first</th>\n",
              "      <th>Temp_first</th>\n",
              "      <th>PaCO2_first</th>\n",
              "      <th>PaO2_first</th>\n",
              "      <th>Platelets_first</th>\n",
              "      <th>WBC_first</th>\n",
              "      <th>Weight</th>\n",
              "      <th>Gender_Female</th>\n",
              "      <th>Gender_Male</th>\n",
              "      <th>MechVent_No</th>\n",
              "      <th>MechVent_Yes</th>\n",
              "    </tr>\n",
              "  </thead>\n",
              "  <tbody>\n",
              "    <tr>\n",
              "      <th>0</th>\n",
              "      <td>8</td>\n",
              "      <td>No</td>\n",
              "      <td>76</td>\n",
              "      <td>175.3</td>\n",
              "      <td>67</td>\n",
              "      <td>105</td>\n",
              "      <td>88.0</td>\n",
              "      <td>35.2</td>\n",
              "      <td>34</td>\n",
              "      <td>344</td>\n",
              "      <td>164</td>\n",
              "      <td>7.4</td>\n",
              "      <td>80.6</td>\n",
              "      <td>0</td>\n",
              "      <td>1</td>\n",
              "      <td>0</td>\n",
              "      <td>1</td>\n",
              "    </tr>\n",
              "    <tr>\n",
              "      <th>1</th>\n",
              "      <td>6</td>\n",
              "      <td>Yes</td>\n",
              "      <td>78</td>\n",
              "      <td>162.6</td>\n",
              "      <td>50</td>\n",
              "      <td>132</td>\n",
              "      <td>111.0</td>\n",
              "      <td>38.0</td>\n",
              "      <td>30</td>\n",
              "      <td>128</td>\n",
              "      <td>91</td>\n",
              "      <td>16.1</td>\n",
              "      <td>48.4</td>\n",
              "      <td>1</td>\n",
              "      <td>0</td>\n",
              "      <td>0</td>\n",
              "      <td>1</td>\n",
              "    </tr>\n",
              "    <tr>\n",
              "      <th>2</th>\n",
              "      <td>8</td>\n",
              "      <td>No</td>\n",
              "      <td>74</td>\n",
              "      <td>175.3</td>\n",
              "      <td>51</td>\n",
              "      <td>106</td>\n",
              "      <td>67.0</td>\n",
              "      <td>34.8</td>\n",
              "      <td>42</td>\n",
              "      <td>486</td>\n",
              "      <td>141</td>\n",
              "      <td>9.0</td>\n",
              "      <td>66.1</td>\n",
              "      <td>0</td>\n",
              "      <td>1</td>\n",
              "      <td>0</td>\n",
              "      <td>1</td>\n",
              "    </tr>\n",
              "    <tr>\n",
              "      <th>3</th>\n",
              "      <td>7</td>\n",
              "      <td>No</td>\n",
              "      <td>71</td>\n",
              "      <td>157.5</td>\n",
              "      <td>60</td>\n",
              "      <td>132</td>\n",
              "      <td>84.0</td>\n",
              "      <td>35.5</td>\n",
              "      <td>35</td>\n",
              "      <td>245</td>\n",
              "      <td>120</td>\n",
              "      <td>13.7</td>\n",
              "      <td>55.8</td>\n",
              "      <td>1</td>\n",
              "      <td>0</td>\n",
              "      <td>0</td>\n",
              "      <td>1</td>\n",
              "    </tr>\n",
              "    <tr>\n",
              "      <th>4</th>\n",
              "      <td>11</td>\n",
              "      <td>No</td>\n",
              "      <td>78</td>\n",
              "      <td>167.6</td>\n",
              "      <td>57</td>\n",
              "      <td>90</td>\n",
              "      <td>73.0</td>\n",
              "      <td>34.7</td>\n",
              "      <td>40</td>\n",
              "      <td>281</td>\n",
              "      <td>121</td>\n",
              "      <td>12.5</td>\n",
              "      <td>72.4</td>\n",
              "      <td>0</td>\n",
              "      <td>1</td>\n",
              "      <td>0</td>\n",
              "      <td>1</td>\n",
              "    </tr>\n",
              "    <tr>\n",
              "      <th>...</th>\n",
              "      <td>...</td>\n",
              "      <td>...</td>\n",
              "      <td>...</td>\n",
              "      <td>...</td>\n",
              "      <td>...</td>\n",
              "      <td>...</td>\n",
              "      <td>...</td>\n",
              "      <td>...</td>\n",
              "      <td>...</td>\n",
              "      <td>...</td>\n",
              "      <td>...</td>\n",
              "      <td>...</td>\n",
              "      <td>...</td>\n",
              "      <td>...</td>\n",
              "      <td>...</td>\n",
              "      <td>...</td>\n",
              "      <td>...</td>\n",
              "    </tr>\n",
              "    <tr>\n",
              "      <th>2357</th>\n",
              "      <td>8</td>\n",
              "      <td>No</td>\n",
              "      <td>72</td>\n",
              "      <td>170.2</td>\n",
              "      <td>41</td>\n",
              "      <td>168</td>\n",
              "      <td>70.0</td>\n",
              "      <td>36.7</td>\n",
              "      <td>31</td>\n",
              "      <td>309</td>\n",
              "      <td>154</td>\n",
              "      <td>10.8</td>\n",
              "      <td>86.2</td>\n",
              "      <td>0</td>\n",
              "      <td>1</td>\n",
              "      <td>0</td>\n",
              "      <td>1</td>\n",
              "    </tr>\n",
              "    <tr>\n",
              "      <th>2358</th>\n",
              "      <td>10</td>\n",
              "      <td>No</td>\n",
              "      <td>71</td>\n",
              "      <td>157.5</td>\n",
              "      <td>57</td>\n",
              "      <td>128</td>\n",
              "      <td>60.0</td>\n",
              "      <td>36.0</td>\n",
              "      <td>43</td>\n",
              "      <td>113</td>\n",
              "      <td>137</td>\n",
              "      <td>14.9</td>\n",
              "      <td>107.0</td>\n",
              "      <td>1</td>\n",
              "      <td>0</td>\n",
              "      <td>1</td>\n",
              "      <td>0</td>\n",
              "    </tr>\n",
              "    <tr>\n",
              "      <th>2359</th>\n",
              "      <td>6</td>\n",
              "      <td>No</td>\n",
              "      <td>78</td>\n",
              "      <td>180.3</td>\n",
              "      <td>58</td>\n",
              "      <td>110</td>\n",
              "      <td>110.0</td>\n",
              "      <td>36.8</td>\n",
              "      <td>35</td>\n",
              "      <td>374</td>\n",
              "      <td>103</td>\n",
              "      <td>20.0</td>\n",
              "      <td>88.7</td>\n",
              "      <td>0</td>\n",
              "      <td>1</td>\n",
              "      <td>0</td>\n",
              "      <td>1</td>\n",
              "    </tr>\n",
              "    <tr>\n",
              "      <th>2360</th>\n",
              "      <td>10</td>\n",
              "      <td>No</td>\n",
              "      <td>90</td>\n",
              "      <td>177.8</td>\n",
              "      <td>50</td>\n",
              "      <td>120</td>\n",
              "      <td>97.0</td>\n",
              "      <td>37.2</td>\n",
              "      <td>31</td>\n",
              "      <td>69</td>\n",
              "      <td>332</td>\n",
              "      <td>27.4</td>\n",
              "      <td>87.0</td>\n",
              "      <td>0</td>\n",
              "      <td>1</td>\n",
              "      <td>0</td>\n",
              "      <td>1</td>\n",
              "    </tr>\n",
              "    <tr>\n",
              "      <th>2361</th>\n",
              "      <td>19</td>\n",
              "      <td>No</td>\n",
              "      <td>70</td>\n",
              "      <td>152.4</td>\n",
              "      <td>61</td>\n",
              "      <td>103</td>\n",
              "      <td>65.0</td>\n",
              "      <td>37.3</td>\n",
              "      <td>30</td>\n",
              "      <td>108</td>\n",
              "      <td>227</td>\n",
              "      <td>14.8</td>\n",
              "      <td>78.1</td>\n",
              "      <td>1</td>\n",
              "      <td>0</td>\n",
              "      <td>1</td>\n",
              "      <td>0</td>\n",
              "    </tr>\n",
              "  </tbody>\n",
              "</table>\n",
              "<p>2362 rows × 17 columns</p>\n",
              "</div>"
            ],
            "text/plain": [
              "      Length_of_stay In-hospital_death  Age  Height  DiasABP_first  \\\n",
              "0                  8                No   76   175.3             67   \n",
              "1                  6               Yes   78   162.6             50   \n",
              "2                  8                No   74   175.3             51   \n",
              "3                  7                No   71   157.5             60   \n",
              "4                 11                No   78   167.6             57   \n",
              "...              ...               ...  ...     ...            ...   \n",
              "2357               8                No   72   170.2             41   \n",
              "2358              10                No   71   157.5             57   \n",
              "2359               6                No   78   180.3             58   \n",
              "2360              10                No   90   177.8             50   \n",
              "2361              19                No   70   152.4             61   \n",
              "\n",
              "      Glucose_first  HR_first  Temp_first  PaCO2_first  PaO2_first  \\\n",
              "0               105      88.0        35.2           34         344   \n",
              "1               132     111.0        38.0           30         128   \n",
              "2               106      67.0        34.8           42         486   \n",
              "3               132      84.0        35.5           35         245   \n",
              "4                90      73.0        34.7           40         281   \n",
              "...             ...       ...         ...          ...         ...   \n",
              "2357            168      70.0        36.7           31         309   \n",
              "2358            128      60.0        36.0           43         113   \n",
              "2359            110     110.0        36.8           35         374   \n",
              "2360            120      97.0        37.2           31          69   \n",
              "2361            103      65.0        37.3           30         108   \n",
              "\n",
              "      Platelets_first  WBC_first  Weight  Gender_Female  Gender_Male  \\\n",
              "0                 164        7.4    80.6              0            1   \n",
              "1                  91       16.1    48.4              1            0   \n",
              "2                 141        9.0    66.1              0            1   \n",
              "3                 120       13.7    55.8              1            0   \n",
              "4                 121       12.5    72.4              0            1   \n",
              "...               ...        ...     ...            ...          ...   \n",
              "2357              154       10.8    86.2              0            1   \n",
              "2358              137       14.9   107.0              1            0   \n",
              "2359              103       20.0    88.7              0            1   \n",
              "2360              332       27.4    87.0              0            1   \n",
              "2361              227       14.8    78.1              1            0   \n",
              "\n",
              "      MechVent_No  MechVent_Yes  \n",
              "0               0             1  \n",
              "1               0             1  \n",
              "2               0             1  \n",
              "3               0             1  \n",
              "4               0             1  \n",
              "...           ...           ...  \n",
              "2357            0             1  \n",
              "2358            1             0  \n",
              "2359            0             1  \n",
              "2360            0             1  \n",
              "2361            1             0  \n",
              "\n",
              "[2362 rows x 17 columns]"
            ]
          },
          "execution_count": 9,
          "metadata": {},
          "output_type": "execute_result"
        }
      ],
      "source": [
        "df"
      ]
    },
    {
      "cell_type": "markdown",
      "id": "7b1wjqIojPdH",
      "metadata": {
        "id": "7b1wjqIojPdH"
      },
      "source": [
        "Label encode the target variable"
      ]
    },
    {
      "cell_type": "code",
      "execution_count": 10,
      "id": "ElEWDNhAjYlf",
      "metadata": {
        "id": "ElEWDNhAjYlf"
      },
      "outputs": [],
      "source": [
        "## Label encode the output label\n",
        "labenc = LabelEncoder()\n",
        "df[target_variable] = labenc.fit_transform(df[target_variable])"
      ]
    },
    {
      "cell_type": "code",
      "execution_count": 11,
      "id": "42ff7b27",
      "metadata": {},
      "outputs": [
        {
          "data": {
            "text/plain": [
              "0       0\n",
              "1       1\n",
              "2       0\n",
              "3       0\n",
              "4       0\n",
              "       ..\n",
              "2357    0\n",
              "2358    0\n",
              "2359    0\n",
              "2360    0\n",
              "2361    0\n",
              "Name: In-hospital_death, Length: 2362, dtype: int32"
            ]
          },
          "execution_count": 11,
          "metadata": {},
          "output_type": "execute_result"
        }
      ],
      "source": [
        "df[target_variable]"
      ]
    },
    {
      "cell_type": "markdown",
      "id": "g2fvl6R0ixLZ",
      "metadata": {
        "id": "g2fvl6R0ixLZ"
      },
      "source": [
        "How balanced is the dataset w.r.t. the target variable?"
      ]
    },
    {
      "cell_type": "code",
      "execution_count": 12,
      "id": "5AUidZJbiveB",
      "metadata": {
        "id": "5AUidZJbiveB"
      },
      "outputs": [
        {
          "name": "stdout",
          "output_type": "stream",
          "text": [
            "86.66384419983065\n",
            "13.336155800169347\n"
          ]
        },
        {
          "data": {
            "text/plain": [
              "<Axes: >"
            ]
          },
          "execution_count": 12,
          "metadata": {},
          "output_type": "execute_result"
        },
        {
          "data": {
            "image/png": "[encoded data removed]",
            "text/plain": [
              "<Figure size 640x480 with 1 Axes>"
            ]
          },
          "metadata": {},
          "output_type": "display_data"
        }
      ],
      "source": [
        "## How balanced is the dataset w.r.t. the\n",
        "## target variable 'In-hospital_death'?\n",
        "print(np.mean(df['In-hospital_death'] == 0)*100)\n",
        "print(np.mean(df['In-hospital_death'] == 1)*100)\n",
        "df['In-hospital_death'].value_counts().plot(kind = 'barh')"
      ]
    },
    {
      "cell_type": "markdown",
      "id": "VcKDeYxvlpmN",
      "metadata": {
        "id": "VcKDeYxvlpmN"
      },
      "source": [
        "The final dataframe for analysis"
      ]
    },
    {
      "cell_type": "code",
      "execution_count": 13,
      "id": "o96V_YhQlrtv",
      "metadata": {
        "id": "o96V_YhQlrtv"
      },
      "outputs": [
        {
          "data": {
            "text/html": [
              "<div>\n",
              "<style scoped>\n",
              "    .dataframe tbody tr th:only-of-type {\n",
              "        vertical-align: middle;\n",
              "    }\n",
              "\n",
              "    .dataframe tbody tr th {\n",
              "        vertical-align: top;\n",
              "    }\n",
              "\n",
              "    .dataframe thead th {\n",
              "        text-align: right;\n",
              "    }\n",
              "</style>\n",
              "<table border=\"1\" class=\"dataframe\">\n",
              "  <thead>\n",
              "    <tr style=\"text-align: right;\">\n",
              "      <th></th>\n",
              "      <th>Length_of_stay</th>\n",
              "      <th>In-hospital_death</th>\n",
              "      <th>Age</th>\n",
              "      <th>Height</th>\n",
              "      <th>DiasABP_first</th>\n",
              "      <th>Glucose_first</th>\n",
              "      <th>HR_first</th>\n",
              "      <th>Temp_first</th>\n",
              "      <th>PaCO2_first</th>\n",
              "      <th>PaO2_first</th>\n",
              "      <th>Platelets_first</th>\n",
              "      <th>WBC_first</th>\n",
              "      <th>Weight</th>\n",
              "      <th>Gender_Female</th>\n",
              "      <th>Gender_Male</th>\n",
              "      <th>MechVent_No</th>\n",
              "      <th>MechVent_Yes</th>\n",
              "    </tr>\n",
              "  </thead>\n",
              "  <tbody>\n",
              "    <tr>\n",
              "      <th>0</th>\n",
              "      <td>8</td>\n",
              "      <td>0</td>\n",
              "      <td>76</td>\n",
              "      <td>175.3</td>\n",
              "      <td>67</td>\n",
              "      <td>105</td>\n",
              "      <td>88.0</td>\n",
              "      <td>35.2</td>\n",
              "      <td>34</td>\n",
              "      <td>344</td>\n",
              "      <td>164</td>\n",
              "      <td>7.4</td>\n",
              "      <td>80.6</td>\n",
              "      <td>0</td>\n",
              "      <td>1</td>\n",
              "      <td>0</td>\n",
              "      <td>1</td>\n",
              "    </tr>\n",
              "    <tr>\n",
              "      <th>1</th>\n",
              "      <td>6</td>\n",
              "      <td>1</td>\n",
              "      <td>78</td>\n",
              "      <td>162.6</td>\n",
              "      <td>50</td>\n",
              "      <td>132</td>\n",
              "      <td>111.0</td>\n",
              "      <td>38.0</td>\n",
              "      <td>30</td>\n",
              "      <td>128</td>\n",
              "      <td>91</td>\n",
              "      <td>16.1</td>\n",
              "      <td>48.4</td>\n",
              "      <td>1</td>\n",
              "      <td>0</td>\n",
              "      <td>0</td>\n",
              "      <td>1</td>\n",
              "    </tr>\n",
              "    <tr>\n",
              "      <th>2</th>\n",
              "      <td>8</td>\n",
              "      <td>0</td>\n",
              "      <td>74</td>\n",
              "      <td>175.3</td>\n",
              "      <td>51</td>\n",
              "      <td>106</td>\n",
              "      <td>67.0</td>\n",
              "      <td>34.8</td>\n",
              "      <td>42</td>\n",
              "      <td>486</td>\n",
              "      <td>141</td>\n",
              "      <td>9.0</td>\n",
              "      <td>66.1</td>\n",
              "      <td>0</td>\n",
              "      <td>1</td>\n",
              "      <td>0</td>\n",
              "      <td>1</td>\n",
              "    </tr>\n",
              "    <tr>\n",
              "      <th>3</th>\n",
              "      <td>7</td>\n",
              "      <td>0</td>\n",
              "      <td>71</td>\n",
              "      <td>157.5</td>\n",
              "      <td>60</td>\n",
              "      <td>132</td>\n",
              "      <td>84.0</td>\n",
              "      <td>35.5</td>\n",
              "      <td>35</td>\n",
              "      <td>245</td>\n",
              "      <td>120</td>\n",
              "      <td>13.7</td>\n",
              "      <td>55.8</td>\n",
              "      <td>1</td>\n",
              "      <td>0</td>\n",
              "      <td>0</td>\n",
              "      <td>1</td>\n",
              "    </tr>\n",
              "    <tr>\n",
              "      <th>4</th>\n",
              "      <td>11</td>\n",
              "      <td>0</td>\n",
              "      <td>78</td>\n",
              "      <td>167.6</td>\n",
              "      <td>57</td>\n",
              "      <td>90</td>\n",
              "      <td>73.0</td>\n",
              "      <td>34.7</td>\n",
              "      <td>40</td>\n",
              "      <td>281</td>\n",
              "      <td>121</td>\n",
              "      <td>12.5</td>\n",
              "      <td>72.4</td>\n",
              "      <td>0</td>\n",
              "      <td>1</td>\n",
              "      <td>0</td>\n",
              "      <td>1</td>\n",
              "    </tr>\n",
              "  </tbody>\n",
              "</table>\n",
              "</div>"
            ],
            "text/plain": [
              "   Length_of_stay  In-hospital_death  Age  Height  DiasABP_first  \\\n",
              "0               8                  0   76   175.3             67   \n",
              "1               6                  1   78   162.6             50   \n",
              "2               8                  0   74   175.3             51   \n",
              "3               7                  0   71   157.5             60   \n",
              "4              11                  0   78   167.6             57   \n",
              "\n",
              "   Glucose_first  HR_first  Temp_first  PaCO2_first  PaO2_first  \\\n",
              "0            105      88.0        35.2           34         344   \n",
              "1            132     111.0        38.0           30         128   \n",
              "2            106      67.0        34.8           42         486   \n",
              "3            132      84.0        35.5           35         245   \n",
              "4             90      73.0        34.7           40         281   \n",
              "\n",
              "   Platelets_first  WBC_first  Weight  Gender_Female  Gender_Male  \\\n",
              "0              164        7.4    80.6              0            1   \n",
              "1               91       16.1    48.4              1            0   \n",
              "2              141        9.0    66.1              0            1   \n",
              "3              120       13.7    55.8              1            0   \n",
              "4              121       12.5    72.4              0            1   \n",
              "\n",
              "   MechVent_No  MechVent_Yes  \n",
              "0            0             1  \n",
              "1            0             1  \n",
              "2            0             1  \n",
              "3            0             1  \n",
              "4            0             1  "
            ]
          },
          "execution_count": 13,
          "metadata": {},
          "output_type": "execute_result"
        }
      ],
      "source": [
        "## The final dataframe for analysis\n",
        "df.head(5)"
      ]
    },
    {
      "cell_type": "markdown",
      "id": "D2QJ3VeVmW4e",
      "metadata": {
        "id": "D2QJ3VeVmW4e"
      },
      "source": [
        "Stratified train and test split of the data"
      ]
    },
    {
      "cell_type": "code",
      "execution_count": 14,
      "id": "G-j85ye1mUx_",
      "metadata": {
        "id": "G-j85ye1mUx_"
      },
      "outputs": [],
      "source": [
        "## Stratified train and test split of the data\n",
        "X = df.drop(target_variable, axis = 1)\n",
        "y = df[target_variable]\n",
        "X_train, X_test, y_train, y_test = train_test_split(X, y,\n",
        "                                                    stratify = y,\n",
        "                                                    test_size = 0.2,\n",
        "                                                    random_state = 1)"
      ]
    },
    {
      "cell_type": "markdown",
      "id": "rKiJc4cFmsjl",
      "metadata": {
        "id": "rKiJc4cFmsjl"
      },
      "source": [
        "Check the proportion of output labels in train and test set"
      ]
    },
    {
      "cell_type": "code",
      "execution_count": 15,
      "id": "rDOkaEcxmnTm",
      "metadata": {
        "id": "rDOkaEcxmnTm"
      },
      "outputs": [
        {
          "name": "stdout",
          "output_type": "stream",
          "text": [
            "Proportion of 1-to-0 labels in train set = 0.133404, test set = 0.133192\n",
            "\n"
          ]
        }
      ],
      "source": [
        "## Check the proportion of output labels in train and test set\n",
        "print('Proportion of 1-to-0 labels in train set = %f, test set = %f\\n'%\n",
        "      (np.mean(y_train == 1), np.mean(y_test == 1)))"
      ]
    },
    {
      "cell_type": "markdown",
      "id": "hW0zPbuqnzZN",
      "metadata": {
        "id": "hW0zPbuqnzZN"
      },
      "source": [
        "Logistic regression starts from here"
      ]
    },
    {
      "cell_type": "code",
      "execution_count": 16,
      "id": "tu93UDOHn5mn",
      "metadata": {
        "id": "tu93UDOHn5mn"
      },
      "outputs": [],
      "source": [
        "num_samples =  X_train.shape[0] # number of samples\n",
        "num_features = X_train.shape[1] # number of features (a.k.a. dimensionality)\n",
        "num_labels = len(np.unique(y_train)) # number of unique target variable labels"
      ]
    },
    {
      "cell_type": "markdown",
      "id": "QgCccBbvo74t",
      "metadata": {
        "id": "QgCccBbvo74t"
      },
      "source": [
        "Add bias feature to all samples"
      ]
    },
    {
      "cell_type": "code",
      "execution_count": 17,
      "id": "36af4285",
      "metadata": {},
      "outputs": [
        {
          "data": {
            "text/plain": [
              "(2362, 16)"
            ]
          },
          "execution_count": 17,
          "metadata": {},
          "output_type": "execute_result"
        }
      ],
      "source": [
        "X.shape"
      ]
    },
    {
      "cell_type": "code",
      "execution_count": 18,
      "id": "LLoYT1Neo8S1",
      "metadata": {
        "id": "LLoYT1Neo8S1"
      },
      "outputs": [
        {
          "data": {
            "text/plain": [
              "(17, 2362)"
            ]
          },
          "execution_count": 18,
          "metadata": {},
          "output_type": "execute_result"
        }
      ],
      "source": [
        "## Add bias feature to all samples\n",
        "X = np.vstack([X.T, np.ones(X.T.shape[1])])\n",
        "num_features += 1\n",
        "X.shape"
      ]
    },
    {
      "cell_type": "code",
      "execution_count": 19,
      "id": "e92eda51",
      "metadata": {},
      "outputs": [
        {
          "data": {
            "text/plain": [
              "(2362, 17)"
            ]
          },
          "execution_count": 19,
          "metadata": {},
          "output_type": "execute_result"
        }
      ],
      "source": [
        "X = X.T\n",
        "X.shape"
      ]
    },
    {
      "cell_type": "markdown",
      "id": "xjG2wb28pN_j",
      "metadata": {
        "id": "xjG2wb28pN_j"
      },
      "source": [
        "Initial weight vector including bias term"
      ]
    },
    {
      "cell_type": "code",
      "execution_count": 20,
      "id": "pagJi3pOpBl_",
      "metadata": {
        "id": "pagJi3pOpBl_"
      },
      "outputs": [
        {
          "name": "stdout",
          "output_type": "stream",
          "text": [
            "w = \n",
            "[ 0  0 -1  0  0  0 -1  0 -1 -1  0 -1 -1 -1 -1 -1 -1]\n"
          ]
        },
        {
          "data": {
            "text/plain": [
              "(17,)"
            ]
          },
          "execution_count": 20,
          "metadata": {},
          "output_type": "execute_result"
        }
      ],
      "source": [
        "## Initial weight vector including bias term\n",
        "w = np.random.choice(np.arange(-1, 1), size = (num_features, ), replace = True)\n",
        "print('w = ')\n",
        "print(w)\n",
        "w.shape"
      ]
    },
    {
      "cell_type": "markdown",
      "id": "UFzjeHdtpWrR",
      "metadata": {
        "id": "UFzjeHdtpWrR"
      },
      "source": [
        "Define sigmoid function"
      ]
    },
    {
      "cell_type": "code",
      "execution_count": 21,
      "id": "lSdumesIpRqp",
      "metadata": {
        "id": "lSdumesIpRqp"
      },
      "outputs": [],
      "source": [
        "## Define sigmoid function\n",
        "sigmoid = lambda x : 1 / (1+np.exp(x))"
      ]
    },
    {
      "cell_type": "markdown",
      "id": "YgluOAeJr0ge",
      "metadata": {
        "id": "YgluOAeJr0ge"
      },
      "source": [
        "Calculate raw and sigmoid-activated scores for all samples"
      ]
    },
    {
      "cell_type": "code",
      "execution_count": 28,
      "id": "JFavzM8Wr01w",
      "metadata": {
        "id": "JFavzM8Wr01w"
      },
      "outputs": [
        {
          "data": {
            "text/plain": [
              "array([1., 1., 1., ..., 1., 1., 1.])"
            ]
          },
          "execution_count": 28,
          "metadata": {},
          "output_type": "execute_result"
        }
      ],
      "source": [
        "## Calculate raw scores for all samples\n",
        "z = np.dot(X, w)\n",
        "\n",
        "## Calculate sigmoid-activated scores for all samples\n",
        "a = sigmoid(z)\n",
        "a"
      ]
    },
    {
      "cell_type": "markdown",
      "id": "LzJtV9ZTsBdZ",
      "metadata": {
        "id": "LzJtV9ZTsBdZ"
      },
      "source": [
        "Calculate average data loss"
      ]
    },
    {
      "cell_type": "code",
      "execution_count": 23,
      "id": "iQceqIWPr7Wl",
      "metadata": {
        "id": "iQceqIWPr7Wl"
      },
      "outputs": [
        {
          "data": {
            "text/plain": [
              "inf"
            ]
          },
          "execution_count": 23,
          "metadata": {},
          "output_type": "execute_result"
        }
      ],
      "source": [
        "## Calculate total average data loss\n",
        "loss_data = -np.mean(y*np.log(a) + (1-y)*np.log(1-a))\n",
        "loss_data"
      ]
    },
    {
      "cell_type": "markdown",
      "id": "Uq0KumXlsMjw",
      "metadata": {
        "id": "Uq0KumXlsMjw"
      },
      "source": [
        "Calculate regularization loss"
      ]
    },
    {
      "cell_type": "code",
      "execution_count": 25,
      "id": "pQilo0LgsCd5",
      "metadata": {
        "id": "pQilo0LgsCd5"
      },
      "outputs": [],
      "source": [
        "## Calculate regularization loss\n",
        "reg = 0.1 # regularization strength\n",
        "loss_reg = reg * np.sum(w * w)"
      ]
    },
    {
      "cell_type": "markdown",
      "id": "bhIGmnjjsacL",
      "metadata": {
        "id": "bhIGmnjjsacL"
      },
      "source": [
        "Calculate total loss as sum of data loss and regularization loss"
      ]
    },
    {
      "cell_type": "code",
      "execution_count": 26,
      "id": "5E46GfWMsQc8",
      "metadata": {
        "id": "5E46GfWMsQc8"
      },
      "outputs": [
        {
          "name": "stdout",
          "output_type": "stream",
          "text": [
            "Total loss = data loss + regularization loss\n",
            "inf\n"
          ]
        }
      ],
      "source": [
        "## Calculate total loss as sum of data loss and regularization loss\n",
        "loss = loss_data + loss_reg\n",
        "print('Total loss = data loss + regularization loss')\n",
        "print(loss)"
      ]
    },
    {
      "cell_type": "markdown",
      "id": "BYhezgWJsrA_",
      "metadata": {
        "id": "BYhezgWJsrA_"
      },
      "source": [
        "Calculate the gradient w.r.t. weights"
      ]
    },
    {
      "cell_type": "code",
      "execution_count": null,
      "id": "KartTZFRsgyR",
      "metadata": {
        "id": "KartTZFRsgyR"
      },
      "outputs": [],
      "source": [
        "## Calculate the gradient w.r.t. weights\n",
        "## Sum of gradient of average data loss and the gradient of the regularization loss\n",
        "dw = (1/?) * np.dot(?, ?-?) + 2 * reg * np.hstack([?, 0])\n",
        "print('Gradient vector = ')\n",
        "print(dw)"
      ]
    }
  ],
  "metadata": {
    "colab": {
      "provenance": []
    },
    "kernelspec": {
      "display_name": "Python 3 (ipykernel)",
      "language": "python",
      "name": "python3"
    },
    "language_info": {
      "codemirror_mode": {
        "name": "ipython",
        "version": 3
      },
      "file_extension": ".py",
      "mimetype": "text/x-python",
      "name": "python",
      "nbconvert_exporter": "python",
      "pygments_lexer": "ipython3",
      "version": "3.9.17"
    }
  },
  "nbformat": 4,
  "nbformat_minor": 5
}
